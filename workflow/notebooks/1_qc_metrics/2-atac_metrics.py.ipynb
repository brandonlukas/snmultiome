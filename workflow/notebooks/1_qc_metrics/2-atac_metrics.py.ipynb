{
 "cells": [
  {
   "cell_type": "markdown",
   "metadata": {},
   "source": [
    "# Compute ATAC QC metrics"
   ]
  },
  {
   "cell_type": "code",
   "execution_count": null,
   "metadata": {},
   "outputs": [],
   "source": [
    "# Load libraries\n",
    "import snapatac2 as snap\n",
    "import pandas as pd\n",
    "from snakemake.script import snakemake"
   ]
  },
  {
   "cell_type": "code",
   "execution_count": null,
   "metadata": {},
   "outputs": [],
   "source": [
    "# Read input and output paths from Snakemake\n",
    "fragment_file = snakemake.input[\"fragments\"]\n",
    "barcodes_file = snakemake.input[\"barcodes\"]\n",
    "output_file = snakemake.output[0]\n",
    "n_jobs = snakemake.threads\n",
    "blacklist_file = snakemake.params.get(\"blacklist\", None)"
   ]
  },
  {
   "cell_type": "code",
   "execution_count": null,
   "metadata": {},
   "outputs": [],
   "source": [
    "# Extract list of barcodes\n",
    "whitelist = pd.read_csv(barcodes_file, header=None)[0].tolist()\n",
    "whitelist"
   ]
  },
  {
   "cell_type": "code",
   "execution_count": null,
   "metadata": {},
   "outputs": [],
   "source": [
    "# Start from fragments file\n",
    "adata = snap.pp.import_fragments(\n",
    "    fragment_file=fragment_file,\n",
    "    chrom_sizes=snap.genome.hg38,\n",
    "    file=output_file,\n",
    "    sorted_by_barcode=False,\n",
    "    whitelist=whitelist,\n",
    "    n_jobs=n_jobs,\n",
    ")\n",
    "adata"
   ]
  },
  {
   "cell_type": "code",
   "execution_count": null,
   "metadata": {},
   "outputs": [],
   "source": [
    "# Plot fragment size distribution\n",
    "snap.pl.frag_size_distr(adata, interactive=False)"
   ]
  },
  {
   "cell_type": "code",
   "execution_count": null,
   "metadata": {},
   "outputs": [],
   "source": [
    "# Compute TSSe scores of individual cells\n",
    "snap.metrics.tsse(adata, snap.genome.hg38, n_jobs=n_jobs)\n",
    "adata"
   ]
  },
  {
   "cell_type": "code",
   "execution_count": null,
   "metadata": {},
   "outputs": [],
   "source": [
    "# Plot TSSe scores against number of unique fragments for each cell\n",
    "snap.pl.tsse(adata, interactive=False)"
   ]
  },
  {
   "cell_type": "code",
   "execution_count": null,
   "metadata": {},
   "outputs": [],
   "source": [
    "# Create a cell by bin matrix\n",
    "snap.pp.add_tile_matrix(adata, n_jobs=n_jobs)\n",
    "adata"
   ]
  },
  {
   "cell_type": "code",
   "execution_count": null,
   "metadata": {},
   "outputs": [],
   "source": [
    "# Select variable features (necessary for scrublet)\n",
    "snap.pp.select_features(adata, blacklist=blacklist_file, n_jobs=n_jobs)\n",
    "adata"
   ]
  },
  {
   "cell_type": "code",
   "execution_count": null,
   "metadata": {},
   "outputs": [],
   "source": [
    "# Doublet detection\n",
    "snap.pp.scrublet(adata, n_jobs=n_jobs)\n",
    "adata"
   ]
  },
  {
   "cell_type": "code",
   "execution_count": null,
   "metadata": {},
   "outputs": [],
   "source": [
    "# Close object (saves to disk)\n",
    "adata.close()\n",
    "adata"
   ]
  }
 ],
 "metadata": {
  "kernelspec": {
   "display_name": "snapatac2_env",
   "language": "python",
   "name": "python3"
  },
  "language_info": {
   "codemirror_mode": {
    "name": "ipython",
    "version": 3
   },
   "file_extension": ".py",
   "mimetype": "text/x-python",
   "name": "python",
   "nbconvert_exporter": "python",
   "pygments_lexer": "ipython3",
   "version": "3.12.9"
  }
 },
 "nbformat": 4,
 "nbformat_minor": 2
}
