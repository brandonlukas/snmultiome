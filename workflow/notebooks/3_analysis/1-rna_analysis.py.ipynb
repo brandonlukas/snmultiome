{
 "cells": [
  {
   "cell_type": "markdown",
   "id": "f0476bac",
   "metadata": {},
   "source": [
    "# RNA-seq analysis"
   ]
  },
  {
   "cell_type": "code",
   "execution_count": null,
   "id": "b472a9f5",
   "metadata": {},
   "outputs": [],
   "source": [
    "# Load libraries\n",
    "import scanpy as sc\n",
    "import celltypist\n",
    "from snakemake.script import snakemake"
   ]
  },
  {
   "cell_type": "code",
   "execution_count": null,
   "id": "8aaa7d80",
   "metadata": {},
   "outputs": [],
   "source": [
    "# Read input and output paths from Snakemake\n",
    "input_file = snakemake.input[0]\n",
    "output_file = snakemake.output[0]\n",
    "celltypist_model = snakemake.params.celltypist_model"
   ]
  },
  {
   "cell_type": "code",
   "execution_count": null,
   "id": "260f00b2",
   "metadata": {},
   "outputs": [],
   "source": [
    "# Load the data\n",
    "adata = sc.read(input_file)\n",
    "adata"
   ]
  },
  {
   "cell_type": "code",
   "execution_count": null,
   "id": "d77d02f8",
   "metadata": {},
   "outputs": [],
   "source": [
    "# Log-normalize the data\n",
    "sc.pp.normalize_total(adata, target_sum=1e4)\n",
    "sc.pp.log1p(adata)\n",
    "adata.raw = adata\n",
    "adata"
   ]
  },
  {
   "cell_type": "code",
   "execution_count": null,
   "id": "344ab19e",
   "metadata": {},
   "outputs": [],
   "source": [
    "# Feature selection\n",
    "sc.pp.highly_variable_genes(adata)\n",
    "sc.pl.highly_variable_genes(adata)"
   ]
  },
  {
   "cell_type": "code",
   "execution_count": null,
   "id": "53d9ab73",
   "metadata": {},
   "outputs": [],
   "source": [
    "# Scale log-normalized counts to zero mean and unit variance\n",
    "sc.pp.scale(adata, max_value=10)"
   ]
  },
  {
   "cell_type": "code",
   "execution_count": null,
   "id": "82c5a76b",
   "metadata": {},
   "outputs": [],
   "source": [
    "# PCA\n",
    "sc.tl.pca(adata, svd_solver=\"arpack\")\n",
    "sc.pl.pca_variance_ratio(adata, log=True)"
   ]
  },
  {
   "cell_type": "code",
   "execution_count": null,
   "id": "54e60416",
   "metadata": {},
   "outputs": [],
   "source": [
    "# Neighbors\n",
    "sc.pp.neighbors(adata)"
   ]
  },
  {
   "cell_type": "code",
   "execution_count": null,
   "id": "57b78452",
   "metadata": {},
   "outputs": [],
   "source": [
    "# Nonlinear dimensionality reduction\n",
    "sc.tl.umap(adata)\n",
    "sc.pl.umap(adata, color=[\"pct_counts_mt\", \"doublet_score\"])"
   ]
  },
  {
   "cell_type": "code",
   "execution_count": null,
   "id": "adce1e2c",
   "metadata": {},
   "outputs": [],
   "source": [
    "# Clustering\n",
    "sc.tl.leiden(adata)\n",
    "sc.pl.umap(adata, color=\"leiden\", legend_loc=\"on data\")"
   ]
  },
  {
   "cell_type": "code",
   "execution_count": null,
   "id": "9a0e78d0",
   "metadata": {},
   "outputs": [],
   "source": [
    "# Celltypist for cell type annotation\n",
    "predictions = celltypist.annotate(\n",
    "    adata,\n",
    "    model=celltypist_model,\n",
    "    majority_voting=True,\n",
    "    over_clustering=\"leiden\",\n",
    ")\n",
    "celltypist.dotplot(\n",
    "    predictions,\n",
    "    use_as_reference=\"leiden\",\n",
    "    use_as_prediction=\"predicted_labels\",\n",
    ")\n",
    "celltypist.dotplot(\n",
    "    predictions,\n",
    "    use_as_reference=\"leiden\",\n",
    "    use_as_prediction=\"majority_voting\",\n",
    ")"
   ]
  },
  {
   "cell_type": "code",
   "execution_count": null,
   "id": "93be9054",
   "metadata": {},
   "outputs": [],
   "source": [
    "# Visualize cell types on UMAP\n",
    "adata.obs[\"predicted_labels\"] = predictions.predicted_labels[\"predicted_labels\"]\n",
    "adata.obs[\"majority_voting\"] = predictions.predicted_labels[\"majority_voting\"]\n",
    "sc.pl.umap(adata, color=\"majority_voting\", legend_loc=\"on data\")"
   ]
  },
  {
   "cell_type": "code",
   "execution_count": null,
   "id": "cfa234c0",
   "metadata": {},
   "outputs": [],
   "source": [
    "# Save the analyzed data\n",
    "adata.write(output_file)"
   ]
  }
 ],
 "metadata": {
  "kernelspec": {
   "display_name": "snapatac2_env",
   "language": "python",
   "name": "python3"
  },
  "language_info": {
   "name": "python",
   "version": "3.12.9"
  }
 },
 "nbformat": 4,
 "nbformat_minor": 5
}
