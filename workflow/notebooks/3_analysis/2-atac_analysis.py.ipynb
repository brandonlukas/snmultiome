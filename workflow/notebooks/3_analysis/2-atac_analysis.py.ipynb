{
 "cells": [
  {
   "cell_type": "markdown",
   "id": "ebc1ed8d",
   "metadata": {},
   "source": [
    "# ATAC-seq analysis"
   ]
  },
  {
   "cell_type": "code",
   "execution_count": null,
   "id": "36941fd5",
   "metadata": {},
   "outputs": [],
   "source": [
    "import scanpy as sc\n",
    "import snapatac2 as snap\n",
    "import celltypist\n",
    "from snakemake.script import snakemake"
   ]
  },
  {
   "cell_type": "code",
   "execution_count": null,
   "id": "4ba264c0",
   "metadata": {},
   "outputs": [],
   "source": [
    "# Read input and output paths from Snakemake\n",
    "input_file = snakemake.input[0]\n",
    "output_file = snakemake.output[0]\n",
    "celltypist_model = snakemake.params.celltypist_model"
   ]
  },
  {
   "cell_type": "code",
   "execution_count": null,
   "id": "8c9b9c72",
   "metadata": {},
   "outputs": [],
   "source": [
    "# Load the data\n",
    "adata = snap.read(input_file, backed=\"r\").copy(output_file)\n",
    "adata"
   ]
  },
  {
   "cell_type": "code",
   "execution_count": null,
   "id": "f227e3cb",
   "metadata": {},
   "outputs": [],
   "source": [
    "# Dimensionality reduction\n",
    "snap.tl.spectral(adata)\n",
    "adata"
   ]
  },
  {
   "cell_type": "code",
   "execution_count": null,
   "id": "544b2379",
   "metadata": {},
   "outputs": [],
   "source": [
    "# UMAP\n",
    "snap.tl.umap(adata)\n",
    "snap.pl.umap(adata, interactive=False)"
   ]
  },
  {
   "cell_type": "code",
   "execution_count": null,
   "id": "402b2b97",
   "metadata": {},
   "outputs": [],
   "source": [
    "# Clustering\n",
    "snap.pp.knn(adata)\n",
    "snap.tl.leiden(adata)\n",
    "snap.pl.umap(adata, color=\"leiden\", interactive=False)\n",
    "adata"
   ]
  },
  {
   "cell_type": "code",
   "execution_count": null,
   "id": "c5a16dcf",
   "metadata": {},
   "outputs": [],
   "source": [
    "# Calculate gene activity scores\n",
    "gene_matrix = snap.pp.make_gene_matrix(adata, snap.genome.hg38)\n",
    "gene_matrix"
   ]
  },
  {
   "cell_type": "code",
   "execution_count": null,
   "id": "62af9dc9",
   "metadata": {},
   "outputs": [],
   "source": [
    "# Preprocess the gene matrix\n",
    "sc.pp.normalize_total(gene_matrix, target_sum=1e4)\n",
    "sc.pp.log1p(gene_matrix)\n",
    "gene_matrix.raw = gene_matrix\n",
    "gene_matrix"
   ]
  },
  {
   "cell_type": "code",
   "execution_count": null,
   "id": "934f3d3b",
   "metadata": {},
   "outputs": [],
   "source": [
    "# Celltypist for cell type annotation\n",
    "predictions = celltypist.annotate(\n",
    "    gene_matrix,\n",
    "    model=\"Human_Endometrium_Atlas.pkl\",\n",
    "    majority_voting=True,\n",
    "    over_clustering=\"leiden\",\n",
    ")\n",
    "celltypist.dotplot(\n",
    "    predictions,\n",
    "    use_as_reference=\"leiden\",\n",
    "    use_as_prediction=\"predicted_labels\",\n",
    ")\n",
    "celltypist.dotplot(\n",
    "    predictions,\n",
    "    use_as_reference=\"leiden\",\n",
    "    use_as_prediction=\"majority_voting\",\n",
    ")\n"
   ]
  },
  {
   "cell_type": "code",
   "execution_count": null,
   "id": "ca8c1c1d",
   "metadata": {},
   "outputs": [],
   "source": [
    "# Visualize cell types on UMAP\n",
    "adata.obs[\"predicted_labels\"] = predictions.predicted_labels[\"predicted_labels\"]\n",
    "adata.obs[\"majority_voting\"] = predictions.predicted_labels[\"majority_voting\"]\n",
    "snap.pl.umap(adata, color=\"majority_voting\", interactive=False)"
   ]
  },
  {
   "cell_type": "code",
   "execution_count": null,
   "id": "46ae7e55",
   "metadata": {},
   "outputs": [],
   "source": [
    "# Close object (saves to disk)\n",
    "adata.close()\n",
    "adata"
   ]
  }
 ],
 "metadata": {
  "kernelspec": {
   "display_name": "snapatac2_env",
   "language": "python",
   "name": "python3"
  },
  "language_info": {
   "name": "python",
   "version": "3.12.9"
  }
 },
 "nbformat": 4,
 "nbformat_minor": 5
}
