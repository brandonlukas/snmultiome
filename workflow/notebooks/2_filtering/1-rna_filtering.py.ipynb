{
 "cells": [
  {
   "cell_type": "markdown",
   "metadata": {},
   "source": [
    "# Filter cells based on RNA metrics"
   ]
  },
  {
   "cell_type": "code",
   "execution_count": null,
   "metadata": {},
   "outputs": [],
   "source": [
    "# Load libraries\n",
    "import scanpy as sc\n",
    "from snakemake.script import snakemake"
   ]
  },
  {
   "cell_type": "code",
   "execution_count": null,
   "metadata": {},
   "outputs": [],
   "source": [
    "# Read input and output paths from Snakemake\n",
    "input_file = snakemake.input[0]\n",
    "output_file = snakemake.output[0]\n",
    "qc_filters = snakemake.params.qc_filters"
   ]
  },
  {
   "cell_type": "code",
   "execution_count": null,
   "metadata": {},
   "outputs": [],
   "source": [
    "# Load the data\n",
    "adata = sc.read(input_file)\n",
    "adata"
   ]
  },
  {
   "cell_type": "code",
   "execution_count": null,
   "metadata": {},
   "outputs": [],
   "source": [
    "# Filter cells based on number of genes and counts\n",
    "if threshold := qc_filters.get(\"min_genes\"):\n",
    "    sc.pp.filter_cells(adata, min_genes=threshold)\n",
    "\n",
    "if threshold := qc_filters.get(\"min_counts\"):\n",
    "    sc.pp.filter_cells(adata, min_counts=threshold)\n",
    "\n",
    "adata"
   ]
  },
  {
   "cell_type": "code",
   "execution_count": null,
   "metadata": {},
   "outputs": [],
   "source": [
    "# Filter cells based on mitochondrial, ribosomal, and hemoglobin gene expression\n",
    "if threshold := qc_filters.get(\"pct_counts_mt\"):\n",
    "    adata = adata[adata.obs[\"pct_counts_mt\"] < threshold, :]\n",
    "\n",
    "if threshold := qc_filters.get(\"pct_counts_ribo\"):\n",
    "    adata = adata[adata.obs[\"pct_counts_ribo\"] < threshold, :]\n",
    "\n",
    "if threshold := qc_filters.get(\"pct_counts_hb\"):\n",
    "    adata = adata[adata.obs[\"pct_counts_hb\"] < threshold, :]\n",
    "\n",
    "adata"
   ]
  },
  {
   "cell_type": "code",
   "execution_count": null,
   "metadata": {},
   "outputs": [],
   "source": [
    "# Filter cells based on doublet score\n",
    "if threshold := qc_filters.get(\"doublet_score\"):\n",
    "    adata = adata[adata.obs[\"doublet_score\"] < threshold, :]\n",
    "\n",
    "adata"
   ]
  },
  {
   "cell_type": "code",
   "execution_count": null,
   "metadata": {},
   "outputs": [],
   "source": [
    "# Save the filtered data\n",
    "adata.write(output_file)"
   ]
  }
 ],
 "metadata": {
  "kernelspec": {
   "display_name": "snapatac2_env",
   "language": "python",
   "name": "python3"
  },
  "language_info": {
   "codemirror_mode": {
    "name": "ipython",
    "version": 3
   },
   "file_extension": ".py",
   "mimetype": "text/x-python",
   "name": "python",
   "nbconvert_exporter": "python",
   "pygments_lexer": "ipython3",
   "version": "3.12.9"
  }
 },
 "nbformat": 4,
 "nbformat_minor": 2
}
