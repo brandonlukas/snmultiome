{
 "cells": [
  {
   "cell_type": "code",
   "execution_count": 1,
   "id": "6bd87642",
   "metadata": {
    "execution": {
     "iopub.execute_input": "2025-04-02T22:54:11.520930Z",
     "iopub.status.busy": "2025-04-02T22:54:11.520753Z",
     "iopub.status.idle": "2025-04-02T22:54:11.538481Z",
     "shell.execute_reply": "2025-04-02T22:54:11.537581Z"
    },
    "tags": [
     "snakemake-job-properties"
    ]
   },
   "outputs": [],
   "source": [
    "######## snakemake preamble start (automatically inserted, do not edit) ########\n",
    "import sys;sys.path.extend(['/home/brandon/miniconda3/envs/snapatac2_env/lib/python3.12/site-packages', '/home/brandon/code/pingyin/snmultiome/workflow/rules', '/home/brandon/code/pingyin/snmultiome/workflow', '/home/brandon/miniconda3/envs/snapatac2_env/bin', '/home/brandon/miniconda3/envs/snapatac2_env/lib/python3.12', '/home/brandon/miniconda3/envs/snapatac2_env/lib/python3.12/lib-dynload', '/home/brandon/miniconda3/envs/snapatac2_env/lib/python3.12/site-packages', '/home/brandon/.cache/snakemake/snakemake/source-cache/runtime-cache/tmp_fgzhb78/file/home/brandon/code/pingyin/snmultiome/workflow/rules/../notebooks/2_filtering', '/home/brandon/code/pingyin/snmultiome/workflow/rules/../notebooks/2_filtering']);import pickle;from snakemake import script;script.snakemake = pickle.loads(b'\\x80\\x04\\x95\\xb2\\x05\\x00\\x00\\x00\\x00\\x00\\x00\\x8c\\x10snakemake.script\\x94\\x8c\\tSnakemake\\x94\\x93\\x94)\\x81\\x94}\\x94(\\x8c\\x05input\\x94\\x8c\\x0csnakemake.io\\x94\\x8c\\nInputFiles\\x94\\x93\\x94)\\x81\\x94\\x8c+results/1_qc_metrics/1633LM/1633LM.rna.h5ad\\x94a}\\x94(\\x8c\\x06_names\\x94}\\x94\\x8c\\x12_allowed_overrides\\x94]\\x94(\\x8c\\x05index\\x94\\x8c\\x04sort\\x94eh\\x10h\\x06\\x8c\\x0eAttributeGuard\\x94\\x93\\x94)\\x81\\x94}\\x94\\x8c\\x04name\\x94h\\x10sbh\\x11h\\x13)\\x81\\x94}\\x94h\\x16h\\x11sbub\\x8c\\x06output\\x94h\\x06\\x8c\\x0bOutputFiles\\x94\\x93\\x94)\\x81\\x94\\x8c*results/2_filtering/1633LM/1633LM.rna.h5ad\\x94a}\\x94(h\\x0c}\\x94h\\x0e]\\x94(h\\x10h\\x11eh\\x10h\\x13)\\x81\\x94}\\x94h\\x16h\\x10sbh\\x11h\\x13)\\x81\\x94}\\x94h\\x16h\\x11sbub\\x8c\\r_params_store\\x94h\\x06\\x8c\\x06Params\\x94\\x93\\x94)\\x81\\x94}\\x94(\\x8c\\tmin_genes\\x94K\\xc8\\x8c\\rpct_counts_mt\\x94K\\x05\\x8c\\x0fpct_counts_ribo\\x94K\\x05\\x8c\\rdoublet_score\\x94G?\\xd3333333ua}\\x94(h\\x0c}\\x94\\x8c\\nqc_filters\\x94K\\x00N\\x86\\x94sh\\x0e]\\x94(h\\x10h\\x11eh\\x10h\\x13)\\x81\\x94}\\x94h\\x16h\\x10sbh\\x11h\\x13)\\x81\\x94}\\x94h\\x16h\\x11sbh0h)ub\\x8c\\r_params_types\\x94}\\x94\\x8c\\twildcards\\x94h\\x06\\x8c\\tWildcards\\x94\\x93\\x94)\\x81\\x94\\x8c\\x061633LM\\x94a}\\x94(h\\x0c}\\x94\\x8c\\x06sample\\x94K\\x00N\\x86\\x94sh\\x0e]\\x94(h\\x10h\\x11eh\\x10h\\x13)\\x81\\x94}\\x94h\\x16h\\x10sbh\\x11h\\x13)\\x81\\x94}\\x94h\\x16h\\x11sb\\x8c\\x06sample\\x94h=ub\\x8c\\x07threads\\x94K\\x01\\x8c\\tresources\\x94h\\x06\\x8c\\tResources\\x94\\x93\\x94)\\x81\\x94(K\\x01K\\x01\\x8c\\x04/tmp\\x94e}\\x94(h\\x0c}\\x94(\\x8c\\x06_cores\\x94K\\x00N\\x86\\x94\\x8c\\x06_nodes\\x94K\\x01N\\x86\\x94\\x8c\\x06tmpdir\\x94K\\x02N\\x86\\x94uh\\x0e]\\x94(h\\x10h\\x11eh\\x10h\\x13)\\x81\\x94}\\x94h\\x16h\\x10sbh\\x11h\\x13)\\x81\\x94}\\x94h\\x16h\\x11sbhPK\\x01hRK\\x01hThMub\\x8c\\x03log\\x94h\\x06\\x8c\\x03Log\\x94\\x93\\x94)\\x81\\x94\\x8c7logs/notebooks/2_filtering/1633LM/1-rna_filtering.ipynb\\x94a}\\x94(h\\x0c}\\x94\\x8c\\x08notebook\\x94K\\x00N\\x86\\x94sh\\x0e]\\x94(h\\x10h\\x11eh\\x10h\\x13)\\x81\\x94}\\x94h\\x16h\\x10sbh\\x11h\\x13)\\x81\\x94}\\x94h\\x16h\\x11sbhbh_ub\\x8c\\x06config\\x94}\\x94(\\x8c\\x08data_dir\\x94\\x8c,/home/brandon/data/pingyin/snmultiome/input/\\x94\\x8c\\x0bresults_dir\\x94\\x8c\\x08results/\\x94\\x8c\\x07samples\\x94]\\x94(\\x8c\\x061619LM\\x94\\x8c\\x061619MM\\x94\\x8c\\x061633LM\\x94\\x8c\\r1633MM-repeat\\x94e\\x8c\\x03RNA\\x94}\\x94(\\x8c\\x10celltypist_model\\x94\\x8c\\x1bHuman_Endometrium_Atlas.pkl\\x94\\x8c\\nqc_filters\\x94h)u\\x8c\\x04ATAC\\x94}\\x94(\\x8c\\tblacklist\\x94\\x8c\\x1fresources/hg38-blacklist.v2.bed\\x94\\x8c\\nqc_filters\\x94}\\x94(\\x8c\\x08min_tsse\\x94K\\x05\\x8c\\nmin_counts\\x94M\\xe8\\x03uuu\\x8c\\x04rule\\x94\\x8c\\rrna_filtering\\x94\\x8c\\x0fbench_iteration\\x94N\\x8c\\tscriptdir\\x94\\x8cM/home/brandon/code/pingyin/snmultiome/workflow/rules/../notebooks/2_filtering\\x94ub.');del script;from snakemake.logging import logger;from snakemake.script import snakemake;import os; os.chdir(r'/home/brandon/code/pingyin/snmultiome');\n",
    "######## snakemake preamble end #########\n"
   ]
  },
  {
   "cell_type": "markdown",
   "metadata": {},
   "source": [
    "# Filter cells based on RNA metrics"
   ]
  },
  {
   "cell_type": "code",
   "execution_count": 2,
   "metadata": {
    "execution": {
     "iopub.execute_input": "2025-04-02T22:54:11.540660Z",
     "iopub.status.busy": "2025-04-02T22:54:11.540285Z",
     "iopub.status.idle": "2025-04-02T22:54:13.922495Z",
     "shell.execute_reply": "2025-04-02T22:54:13.921719Z"
    }
   },
   "outputs": [],
   "source": [
    "# Load libraries\n",
    "import scanpy as sc\n",
    "from snakemake.script import snakemake"
   ]
  },
  {
   "cell_type": "code",
   "execution_count": 3,
   "metadata": {
    "execution": {
     "iopub.execute_input": "2025-04-02T22:54:13.924662Z",
     "iopub.status.busy": "2025-04-02T22:54:13.924149Z",
     "iopub.status.idle": "2025-04-02T22:54:13.927574Z",
     "shell.execute_reply": "2025-04-02T22:54:13.926951Z"
    }
   },
   "outputs": [],
   "source": [
    "# Read input and output paths from Snakemake\n",
    "input_file = snakemake.input[0]\n",
    "output_file = snakemake.output[0]\n",
    "qc_filters = snakemake.params.qc_filters"
   ]
  },
  {
   "cell_type": "code",
   "execution_count": 4,
   "metadata": {
    "execution": {
     "iopub.execute_input": "2025-04-02T22:54:13.929618Z",
     "iopub.status.busy": "2025-04-02T22:54:13.929207Z",
     "iopub.status.idle": "2025-04-02T22:54:14.184750Z",
     "shell.execute_reply": "2025-04-02T22:54:14.184030Z"
    }
   },
   "outputs": [
    {
     "data": {
      "text/plain": [
       "AnnData object with n_obs × n_vars = 9460 × 36601\n",
       "    obs: 'n_genes_by_counts', 'total_counts', 'total_counts_mt', 'pct_counts_mt', 'total_counts_ribo', 'pct_counts_ribo', 'total_counts_hb', 'pct_counts_hb', 'doublet_score', 'predicted_doublet'\n",
       "    var: 'gene_ids', 'mt', 'ribo', 'hb', 'n_cells_by_counts', 'mean_counts', 'pct_dropout_by_counts', 'total_counts'\n",
       "    uns: 'scrublet'"
      ]
     },
     "execution_count": 4,
     "metadata": {},
     "output_type": "execute_result"
    }
   ],
   "source": [
    "# Load the data\n",
    "adata = sc.read(input_file)\n",
    "adata"
   ]
  },
  {
   "cell_type": "code",
   "execution_count": 5,
   "metadata": {
    "execution": {
     "iopub.execute_input": "2025-04-02T22:54:14.208274Z",
     "iopub.status.busy": "2025-04-02T22:54:14.208026Z",
     "iopub.status.idle": "2025-04-02T22:54:14.334925Z",
     "shell.execute_reply": "2025-04-02T22:54:14.334241Z"
    }
   },
   "outputs": [
    {
     "data": {
      "text/plain": [
       "AnnData object with n_obs × n_vars = 9296 × 36601\n",
       "    obs: 'n_genes_by_counts', 'total_counts', 'total_counts_mt', 'pct_counts_mt', 'total_counts_ribo', 'pct_counts_ribo', 'total_counts_hb', 'pct_counts_hb', 'doublet_score', 'predicted_doublet', 'n_genes'\n",
       "    var: 'gene_ids', 'mt', 'ribo', 'hb', 'n_cells_by_counts', 'mean_counts', 'pct_dropout_by_counts', 'total_counts'\n",
       "    uns: 'scrublet'"
      ]
     },
     "execution_count": 5,
     "metadata": {},
     "output_type": "execute_result"
    }
   ],
   "source": [
    "# Filter cells based on number of genes and counts\n",
    "if threshold := qc_filters.get(\"min_genes\"):\n",
    "    sc.pp.filter_cells(adata, min_genes=threshold)\n",
    "\n",
    "if threshold := qc_filters.get(\"min_counts\"):\n",
    "    sc.pp.filter_cells(adata, min_counts=threshold)\n",
    "\n",
    "adata"
   ]
  },
  {
   "cell_type": "code",
   "execution_count": 6,
   "metadata": {
    "execution": {
     "iopub.execute_input": "2025-04-02T22:54:14.336848Z",
     "iopub.status.busy": "2025-04-02T22:54:14.336464Z",
     "iopub.status.idle": "2025-04-02T22:54:14.343682Z",
     "shell.execute_reply": "2025-04-02T22:54:14.343181Z"
    }
   },
   "outputs": [
    {
     "data": {
      "text/plain": [
       "View of AnnData object with n_obs × n_vars = 9187 × 36601\n",
       "    obs: 'n_genes_by_counts', 'total_counts', 'total_counts_mt', 'pct_counts_mt', 'total_counts_ribo', 'pct_counts_ribo', 'total_counts_hb', 'pct_counts_hb', 'doublet_score', 'predicted_doublet', 'n_genes'\n",
       "    var: 'gene_ids', 'mt', 'ribo', 'hb', 'n_cells_by_counts', 'mean_counts', 'pct_dropout_by_counts', 'total_counts'\n",
       "    uns: 'scrublet'"
      ]
     },
     "execution_count": 6,
     "metadata": {},
     "output_type": "execute_result"
    }
   ],
   "source": [
    "# Filter cells based on mitochondrial, ribosomal, and hemoglobin gene expression\n",
    "if threshold := qc_filters.get(\"pct_counts_mt\"):\n",
    "    adata = adata[adata.obs[\"pct_counts_mt\"] < threshold, :]\n",
    "\n",
    "if threshold := qc_filters.get(\"pct_counts_ribo\"):\n",
    "    adata = adata[adata.obs[\"pct_counts_ribo\"] < threshold, :]\n",
    "\n",
    "if threshold := qc_filters.get(\"pct_counts_hb\"):\n",
    "    adata = adata[adata.obs[\"pct_counts_hb\"] < threshold, :]\n",
    "\n",
    "adata"
   ]
  },
  {
   "cell_type": "code",
   "execution_count": 7,
   "metadata": {
    "execution": {
     "iopub.execute_input": "2025-04-02T22:54:14.345230Z",
     "iopub.status.busy": "2025-04-02T22:54:14.345028Z",
     "iopub.status.idle": "2025-04-02T22:54:14.350382Z",
     "shell.execute_reply": "2025-04-02T22:54:14.349750Z"
    }
   },
   "outputs": [
    {
     "data": {
      "text/plain": [
       "View of AnnData object with n_obs × n_vars = 9086 × 36601\n",
       "    obs: 'n_genes_by_counts', 'total_counts', 'total_counts_mt', 'pct_counts_mt', 'total_counts_ribo', 'pct_counts_ribo', 'total_counts_hb', 'pct_counts_hb', 'doublet_score', 'predicted_doublet', 'n_genes'\n",
       "    var: 'gene_ids', 'mt', 'ribo', 'hb', 'n_cells_by_counts', 'mean_counts', 'pct_dropout_by_counts', 'total_counts'\n",
       "    uns: 'scrublet'"
      ]
     },
     "execution_count": 7,
     "metadata": {},
     "output_type": "execute_result"
    }
   ],
   "source": [
    "# Filter cells based on doublet score\n",
    "if threshold := qc_filters.get(\"doublet_score\"):\n",
    "    adata = adata[adata.obs[\"doublet_score\"] < threshold, :]\n",
    "\n",
    "adata"
   ]
  },
  {
   "cell_type": "code",
   "execution_count": 8,
   "metadata": {
    "execution": {
     "iopub.execute_input": "2025-04-02T22:54:14.352172Z",
     "iopub.status.busy": "2025-04-02T22:54:14.351822Z",
     "iopub.status.idle": "2025-04-02T22:54:14.566188Z",
     "shell.execute_reply": "2025-04-02T22:54:14.565559Z"
    }
   },
   "outputs": [],
   "source": [
    "# Save the filtered data\n",
    "adata.write(output_file)"
   ]
  }
 ],
 "metadata": {
  "kernelspec": {
   "display_name": "snapatac2_env",
   "language": "python",
   "name": "python3"
  },
  "language_info": {
   "codemirror_mode": {
    "name": "ipython",
    "version": 3
   },
   "file_extension": ".py",
   "mimetype": "text/x-python",
   "name": "python",
   "nbconvert_exporter": "python",
   "pygments_lexer": "ipython3",
   "version": "3.12.9"
  }
 },
 "nbformat": 4,
 "nbformat_minor": 2
}
