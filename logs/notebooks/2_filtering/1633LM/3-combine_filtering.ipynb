{
 "cells": [
  {
   "cell_type": "code",
   "execution_count": 1,
   "id": "68731b91",
   "metadata": {
    "execution": {
     "iopub.execute_input": "2025-04-02T22:56:17.679661Z",
     "iopub.status.busy": "2025-04-02T22:56:17.679505Z",
     "iopub.status.idle": "2025-04-02T22:56:17.701249Z",
     "shell.execute_reply": "2025-04-02T22:56:17.700787Z"
    },
    "tags": [
     "snakemake-job-properties"
    ]
   },
   "outputs": [],
   "source": [
    "######## snakemake preamble start (automatically inserted, do not edit) ########\n",
    "import sys;sys.path.extend(['/home/brandon/miniconda3/envs/snapatac2_env/lib/python3.12/site-packages', '/home/brandon/code/pingyin/snmultiome/workflow/rules', '/home/brandon/code/pingyin/snmultiome/workflow', '/home/brandon/miniconda3/envs/snapatac2_env/bin', '/home/brandon/miniconda3/envs/snapatac2_env/lib/python3.12', '/home/brandon/miniconda3/envs/snapatac2_env/lib/python3.12/lib-dynload', '/home/brandon/miniconda3/envs/snapatac2_env/lib/python3.12/site-packages', '/home/brandon/.cache/snakemake/snakemake/source-cache/runtime-cache/tmpwluz2zko/file/home/brandon/code/pingyin/snmultiome/workflow/rules/../notebooks/2_filtering', '/home/brandon/code/pingyin/snmultiome/workflow/rules/../notebooks/2_filtering']);import pickle;from snakemake import script;script.snakemake = pickle.loads(b'\\x80\\x04\\x95\\xeb\\x05\\x00\\x00\\x00\\x00\\x00\\x00\\x8c\\x10snakemake.script\\x94\\x8c\\tSnakemake\\x94\\x93\\x94)\\x81\\x94}\\x94(\\x8c\\x05input\\x94\\x8c\\x0csnakemake.io\\x94\\x8c\\nInputFiles\\x94\\x93\\x94)\\x81\\x94(\\x8c*results/2_filtering/1633LM/1633LM.rna.h5ad\\x94\\x8c+results/2_filtering/1633LM/1633LM.atac.h5ad\\x94e}\\x94(\\x8c\\x06_names\\x94}\\x94(\\x8c\\x03rna\\x94K\\x00N\\x86\\x94\\x8c\\x04atac\\x94K\\x01N\\x86\\x94u\\x8c\\x12_allowed_overrides\\x94]\\x94(\\x8c\\x05index\\x94\\x8c\\x04sort\\x94eh\\x15h\\x06\\x8c\\x0eAttributeGuard\\x94\\x93\\x94)\\x81\\x94}\\x94\\x8c\\x04name\\x94h\\x15sbh\\x16h\\x18)\\x81\\x94}\\x94h\\x1bh\\x16sbh\\x0fh\\nh\\x11h\\x0bub\\x8c\\x06output\\x94h\\x06\\x8c\\x0bOutputFiles\\x94\\x93\\x94)\\x81\\x94\\x8c&results/2_filtering/1633LM/1633LM.h5mu\\x94a}\\x94(h\\r}\\x94h\\x13]\\x94(h\\x15h\\x16eh\\x15h\\x18)\\x81\\x94}\\x94h\\x1bh\\x15sbh\\x16h\\x18)\\x81\\x94}\\x94h\\x1bh\\x16sbub\\x8c\\r_params_store\\x94h\\x06\\x8c\\x06Params\\x94\\x93\\x94)\\x81\\x94}\\x94(h\\r}\\x94h\\x13]\\x94(h\\x15h\\x16eh\\x15h\\x18)\\x81\\x94}\\x94h\\x1bh\\x15sbh\\x16h\\x18)\\x81\\x94}\\x94h\\x1bh\\x16sbub\\x8c\\r_params_types\\x94}\\x94\\x8c\\twildcards\\x94h\\x06\\x8c\\tWildcards\\x94\\x93\\x94)\\x81\\x94\\x8c\\x061633LM\\x94a}\\x94(h\\r}\\x94\\x8c\\x06sample\\x94K\\x00N\\x86\\x94sh\\x13]\\x94(h\\x15h\\x16eh\\x15h\\x18)\\x81\\x94}\\x94h\\x1bh\\x15sbh\\x16h\\x18)\\x81\\x94}\\x94h\\x1bh\\x16sb\\x8c\\x06sample\\x94h;ub\\x8c\\x07threads\\x94K\\x01\\x8c\\tresources\\x94h\\x06\\x8c\\tResources\\x94\\x93\\x94)\\x81\\x94(K\\x01K\\x01\\x8c\\x04/tmp\\x94e}\\x94(h\\r}\\x94(\\x8c\\x06_cores\\x94K\\x00N\\x86\\x94\\x8c\\x06_nodes\\x94K\\x01N\\x86\\x94\\x8c\\x06tmpdir\\x94K\\x02N\\x86\\x94uh\\x13]\\x94(h\\x15h\\x16eh\\x15h\\x18)\\x81\\x94}\\x94h\\x1bh\\x15sbh\\x16h\\x18)\\x81\\x94}\\x94h\\x1bh\\x16sbhNK\\x01hPK\\x01hRhKub\\x8c\\x03log\\x94h\\x06\\x8c\\x03Log\\x94\\x93\\x94)\\x81\\x94\\x8c;logs/notebooks/2_filtering/1633LM/3-combine_filtering.ipynb\\x94a}\\x94(h\\r}\\x94\\x8c\\x08notebook\\x94K\\x00N\\x86\\x94sh\\x13]\\x94(h\\x15h\\x16eh\\x15h\\x18)\\x81\\x94}\\x94h\\x1bh\\x15sbh\\x16h\\x18)\\x81\\x94}\\x94h\\x1bh\\x16sbh`h]ub\\x8c\\x06config\\x94}\\x94(\\x8c\\x08data_dir\\x94\\x8c,/home/brandon/data/pingyin/snmultiome/input/\\x94\\x8c\\x0bresults_dir\\x94\\x8c\\x08results/\\x94\\x8c\\x07samples\\x94]\\x94(\\x8c\\x061619LM\\x94\\x8c\\x061619MM\\x94\\x8c\\x061633LM\\x94\\x8c\\r1633MM-repeat\\x94e\\x8c\\x03RNA\\x94}\\x94(\\x8c\\x10celltypist_model\\x94\\x8c\\x1bHuman_Endometrium_Atlas.pkl\\x94\\x8c\\nqc_filters\\x94}\\x94(\\x8c\\tmin_genes\\x94K\\xc8\\x8c\\rpct_counts_mt\\x94K\\x05\\x8c\\x0fpct_counts_ribo\\x94K\\x05\\x8c\\rdoublet_score\\x94G?\\xd3333333uu\\x8c\\x04ATAC\\x94}\\x94(\\x8c\\tblacklist\\x94\\x8c\\x1fresources/hg38-blacklist.v2.bed\\x94\\x8c\\nqc_filters\\x94}\\x94(\\x8c\\x08min_tsse\\x94K\\x05\\x8c\\nmin_counts\\x94M\\xe8\\x03uuu\\x8c\\x04rule\\x94\\x8c\\x11combine_filtering\\x94\\x8c\\x0fbench_iteration\\x94N\\x8c\\tscriptdir\\x94\\x8cM/home/brandon/code/pingyin/snmultiome/workflow/rules/../notebooks/2_filtering\\x94ub.');del script;from snakemake.logging import logger;from snakemake.script import snakemake;import os; os.chdir(r'/home/brandon/code/pingyin/snmultiome');\n",
    "######## snakemake preamble end #########\n"
   ]
  },
  {
   "cell_type": "markdown",
   "metadata": {},
   "source": [
    "# Combine RNA and ATAC filtered data"
   ]
  },
  {
   "cell_type": "code",
   "execution_count": 2,
   "metadata": {
    "execution": {
     "iopub.execute_input": "2025-04-02T22:56:17.702936Z",
     "iopub.status.busy": "2025-04-02T22:56:17.702698Z",
     "iopub.status.idle": "2025-04-02T22:56:22.335892Z",
     "shell.execute_reply": "2025-04-02T22:56:22.335259Z"
    }
   },
   "outputs": [],
   "source": [
    "# Load libraries\n",
    "import muon as mu\n",
    "import anndata as ad\n",
    "from snakemake.script import snakemake"
   ]
  },
  {
   "cell_type": "code",
   "execution_count": 3,
   "metadata": {
    "execution": {
     "iopub.execute_input": "2025-04-02T22:56:22.337687Z",
     "iopub.status.busy": "2025-04-02T22:56:22.337363Z",
     "iopub.status.idle": "2025-04-02T22:56:22.340174Z",
     "shell.execute_reply": "2025-04-02T22:56:22.339663Z"
    }
   },
   "outputs": [],
   "source": [
    "# Read input and output paths from Snakemake\n",
    "input_rna = snakemake.input[\"rna\"]\n",
    "input_atac = snakemake.input[\"atac\"]\n",
    "output_file = snakemake.output[0]"
   ]
  },
  {
   "cell_type": "code",
   "execution_count": 4,
   "metadata": {
    "execution": {
     "iopub.execute_input": "2025-04-02T22:56:22.341594Z",
     "iopub.status.busy": "2025-04-02T22:56:22.341448Z",
     "iopub.status.idle": "2025-04-02T22:56:27.279351Z",
     "shell.execute_reply": "2025-04-02T22:56:27.278713Z"
    }
   },
   "outputs": [
    {
     "data": {
      "text/plain": [
       "(AnnData object with n_obs × n_vars = 9086 × 36601 backed at 'results/2_filtering/1633LM/1633LM.rna.h5ad'\n",
       "     obs: 'n_genes_by_counts', 'total_counts', 'total_counts_mt', 'pct_counts_mt', 'total_counts_ribo', 'pct_counts_ribo', 'total_counts_hb', 'pct_counts_hb', 'doublet_score', 'predicted_doublet', 'n_genes'\n",
       "     var: 'gene_ids', 'mt', 'ribo', 'hb', 'n_cells_by_counts', 'mean_counts', 'pct_dropout_by_counts', 'total_counts'\n",
       "     uns: 'scrublet',\n",
       " AnnData object with n_obs × n_vars = 5087 × 6062095 backed at 'results/2_filtering/1633LM/1633LM.atac.h5ad'\n",
       "     obs: 'n_fragment', 'frac_dup', 'frac_mito', 'tsse', 'doublet_probability', 'doublet_score'\n",
       "     var: 'count', 'selected'\n",
       "     uns: 'TSS_profile', 'doublet_rate', 'frac_overlap_TSS', 'frag_size_distr', 'library_tsse', 'reference_sequences', 'scrublet_sim_doublet_score'\n",
       "     obsm: 'fragment_paired')"
      ]
     },
     "execution_count": 4,
     "metadata": {},
     "output_type": "execute_result"
    }
   ],
   "source": [
    "adata_rna = ad.read_h5ad(input_rna, backed=\"r\")\n",
    "adata_atac = ad.read_h5ad(input_atac, backed=\"r\")\n",
    "adata_rna, adata_atac"
   ]
  },
  {
   "cell_type": "code",
   "execution_count": 5,
   "metadata": {
    "execution": {
     "iopub.execute_input": "2025-04-02T22:56:27.299930Z",
     "iopub.status.busy": "2025-04-02T22:56:27.299665Z",
     "iopub.status.idle": "2025-04-02T22:56:35.623920Z",
     "shell.execute_reply": "2025-04-02T22:56:35.623367Z"
    }
   },
   "outputs": [
    {
     "name": "stderr",
     "output_type": "stream",
     "text": [
      "/home/brandon/miniconda3/envs/snapatac2_env/lib/python3.12/site-packages/mudata/_core/mudata.py:1531: FutureWarning: From 0.4 .update() will not pull obs/var columns from individual modalities by default anymore. Set mudata.set_options(pull_on_update=False) to adopt the new behaviour, which will become the default. Use new pull_obs/pull_var and push_obs/push_var methods for more flexibility.\n",
      "  self._update_attr(\"var\", axis=0, join_common=join_common)\n"
     ]
    },
    {
     "name": "stderr",
     "output_type": "stream",
     "text": [
      "/home/brandon/miniconda3/envs/snapatac2_env/lib/python3.12/site-packages/mudata/_core/mudata.py:1429: FutureWarning: From 0.4 .update() will not pull obs/var columns from individual modalities by default anymore. Set mudata.set_options(pull_on_update=False) to adopt the new behaviour, which will become the default. Use new pull_obs/pull_var and push_obs/push_var methods for more flexibility.\n",
      "  self._update_attr(\"obs\", axis=1, join_common=join_common)\n"
     ]
    },
    {
     "data": {
      "text/html": [
       "<pre>MuData object with n_obs × n_vars = 9245 × 6098696\n",
       "  2 modalities\n",
       "    rna:\t9086 x 36601\n",
       "      obs:\t&#x27;n_genes_by_counts&#x27;, &#x27;total_counts&#x27;, &#x27;total_counts_mt&#x27;, &#x27;pct_counts_mt&#x27;, &#x27;total_counts_ribo&#x27;, &#x27;pct_counts_ribo&#x27;, &#x27;total_counts_hb&#x27;, &#x27;pct_counts_hb&#x27;, &#x27;doublet_score&#x27;, &#x27;predicted_doublet&#x27;, &#x27;n_genes&#x27;\n",
       "      var:\t&#x27;gene_ids&#x27;, &#x27;mt&#x27;, &#x27;ribo&#x27;, &#x27;hb&#x27;, &#x27;n_cells_by_counts&#x27;, &#x27;mean_counts&#x27;, &#x27;pct_dropout_by_counts&#x27;, &#x27;total_counts&#x27;\n",
       "      uns:\t&#x27;scrublet&#x27;\n",
       "    atac:\t5087 x 6062095\n",
       "      obs:\t&#x27;n_fragment&#x27;, &#x27;frac_dup&#x27;, &#x27;frac_mito&#x27;, &#x27;tsse&#x27;, &#x27;doublet_probability&#x27;, &#x27;doublet_score&#x27;\n",
       "      var:\t&#x27;count&#x27;, &#x27;selected&#x27;\n",
       "      uns:\t&#x27;TSS_profile&#x27;, &#x27;doublet_rate&#x27;, &#x27;frac_overlap_TSS&#x27;, &#x27;frag_size_distr&#x27;, &#x27;library_tsse&#x27;, &#x27;reference_sequences&#x27;, &#x27;scrublet_sim_doublet_score&#x27;\n",
       "      obsm:\t&#x27;fragment_paired&#x27;</pre>"
      ],
      "text/plain": [
       "MuData object with n_obs × n_vars = 9245 × 6098696\n",
       "  2 modalities\n",
       "    rna:\t9086 x 36601\n",
       "      obs:\t'n_genes_by_counts', 'total_counts', 'total_counts_mt', 'pct_counts_mt', 'total_counts_ribo', 'pct_counts_ribo', 'total_counts_hb', 'pct_counts_hb', 'doublet_score', 'predicted_doublet', 'n_genes'\n",
       "      var:\t'gene_ids', 'mt', 'ribo', 'hb', 'n_cells_by_counts', 'mean_counts', 'pct_dropout_by_counts', 'total_counts'\n",
       "      uns:\t'scrublet'\n",
       "    atac:\t5087 x 6062095\n",
       "      obs:\t'n_fragment', 'frac_dup', 'frac_mito', 'tsse', 'doublet_probability', 'doublet_score'\n",
       "      var:\t'count', 'selected'\n",
       "      uns:\t'TSS_profile', 'doublet_rate', 'frac_overlap_TSS', 'frag_size_distr', 'library_tsse', 'reference_sequences', 'scrublet_sim_doublet_score'\n",
       "      obsm:\t'fragment_paired'"
      ]
     },
     "execution_count": 5,
     "metadata": {},
     "output_type": "execute_result"
    }
   ],
   "source": [
    "mdata = mu.MuData({\"rna\": adata_rna, \"atac\": adata_atac})\n",
    "mdata"
   ]
  },
  {
   "cell_type": "code",
   "execution_count": 6,
   "metadata": {
    "execution": {
     "iopub.execute_input": "2025-04-02T22:56:35.625514Z",
     "iopub.status.busy": "2025-04-02T22:56:35.625222Z",
     "iopub.status.idle": "2025-04-02T22:56:42.110615Z",
     "shell.execute_reply": "2025-04-02T22:56:42.110000Z"
    }
   },
   "outputs": [
    {
     "name": "stderr",
     "output_type": "stream",
     "text": [
      "/home/brandon/miniconda3/envs/snapatac2_env/lib/python3.12/site-packages/mudata/_core/mudata.py:1531: FutureWarning: From 0.4 .update() will not pull obs/var columns from individual modalities by default anymore. Set mudata.set_options(pull_on_update=False) to adopt the new behaviour, which will become the default. Use new pull_obs/pull_var and push_obs/push_var methods for more flexibility.\n",
      "  self._update_attr(\"var\", axis=0, join_common=join_common)\n"
     ]
    },
    {
     "name": "stderr",
     "output_type": "stream",
     "text": [
      "/home/brandon/miniconda3/envs/snapatac2_env/lib/python3.12/site-packages/mudata/_core/mudata.py:1429: FutureWarning: From 0.4 .update() will not pull obs/var columns from individual modalities by default anymore. Set mudata.set_options(pull_on_update=False) to adopt the new behaviour, which will become the default. Use new pull_obs/pull_var and push_obs/push_var methods for more flexibility.\n",
      "  self._update_attr(\"obs\", axis=1, join_common=join_common)\n"
     ]
    }
   ],
   "source": [
    "mdata.write_h5mu(output_file)"
   ]
  }
 ],
 "metadata": {
  "kernelspec": {
   "display_name": "snapatac2_env",
   "language": "python",
   "name": "python3"
  },
  "language_info": {
   "codemirror_mode": {
    "name": "ipython",
    "version": 3
   },
   "file_extension": ".py",
   "mimetype": "text/x-python",
   "name": "python",
   "nbconvert_exporter": "python",
   "pygments_lexer": "ipython3",
   "version": "3.12.9"
  }
 },
 "nbformat": 4,
 "nbformat_minor": 2
}
