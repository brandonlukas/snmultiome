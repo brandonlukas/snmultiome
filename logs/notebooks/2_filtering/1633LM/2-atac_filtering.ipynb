{
 "cells": [
  {
   "cell_type": "code",
   "execution_count": 1,
   "id": "bcf10973",
   "metadata": {
    "execution": {
     "iopub.execute_input": "2025-04-02T22:54:11.520546Z",
     "iopub.status.busy": "2025-04-02T22:54:11.520208Z",
     "iopub.status.idle": "2025-04-02T22:54:11.538016Z",
     "shell.execute_reply": "2025-04-02T22:54:11.537391Z"
    },
    "tags": [
     "snakemake-job-properties"
    ]
   },
   "outputs": [],
   "source": [
    "######## snakemake preamble start (automatically inserted, do not edit) ########\n",
    "import sys;sys.path.extend(['/home/brandon/miniconda3/envs/snapatac2_env/lib/python3.12/site-packages', '/home/brandon/code/pingyin/snmultiome/workflow/rules', '/home/brandon/code/pingyin/snmultiome/workflow', '/home/brandon/miniconda3/envs/snapatac2_env/bin', '/home/brandon/miniconda3/envs/snapatac2_env/lib/python3.12', '/home/brandon/miniconda3/envs/snapatac2_env/lib/python3.12/lib-dynload', '/home/brandon/miniconda3/envs/snapatac2_env/lib/python3.12/site-packages', '/home/brandon/.cache/snakemake/snakemake/source-cache/runtime-cache/tmp_fgzhb78/file/home/brandon/code/pingyin/snmultiome/workflow/rules/../notebooks/2_filtering', '/home/brandon/code/pingyin/snmultiome/workflow/rules/../notebooks/2_filtering']);import pickle;from snakemake import script;script.snakemake = pickle.loads(b'\\x80\\x04\\x95\\xb6\\x05\\x00\\x00\\x00\\x00\\x00\\x00\\x8c\\x10snakemake.script\\x94\\x8c\\tSnakemake\\x94\\x93\\x94)\\x81\\x94}\\x94(\\x8c\\x05input\\x94\\x8c\\x0csnakemake.io\\x94\\x8c\\nInputFiles\\x94\\x93\\x94)\\x81\\x94\\x8c,results/1_qc_metrics/1633LM/1633LM.atac.h5ad\\x94a}\\x94(\\x8c\\x06_names\\x94}\\x94\\x8c\\x12_allowed_overrides\\x94]\\x94(\\x8c\\x05index\\x94\\x8c\\x04sort\\x94eh\\x10h\\x06\\x8c\\x0eAttributeGuard\\x94\\x93\\x94)\\x81\\x94}\\x94\\x8c\\x04name\\x94h\\x10sbh\\x11h\\x13)\\x81\\x94}\\x94h\\x16h\\x11sbub\\x8c\\x06output\\x94h\\x06\\x8c\\x0bOutputFiles\\x94\\x93\\x94)\\x81\\x94\\x8c+results/2_filtering/1633LM/1633LM.atac.h5ad\\x94a}\\x94(h\\x0c}\\x94h\\x0e]\\x94(h\\x10h\\x11eh\\x10h\\x13)\\x81\\x94}\\x94h\\x16h\\x10sbh\\x11h\\x13)\\x81\\x94}\\x94h\\x16h\\x11sbub\\x8c\\r_params_store\\x94h\\x06\\x8c\\x06Params\\x94\\x93\\x94)\\x81\\x94}\\x94(\\x8c\\x08min_tsse\\x94K\\x05\\x8c\\nmin_counts\\x94M\\xe8\\x03ua}\\x94(h\\x0c}\\x94\\x8c\\nqc_filters\\x94K\\x00N\\x86\\x94sh\\x0e]\\x94(h\\x10h\\x11eh\\x10h\\x13)\\x81\\x94}\\x94h\\x16h\\x10sbh\\x11h\\x13)\\x81\\x94}\\x94h\\x16h\\x11sbh.h)ub\\x8c\\r_params_types\\x94}\\x94\\x8c\\twildcards\\x94h\\x06\\x8c\\tWildcards\\x94\\x93\\x94)\\x81\\x94\\x8c\\x061633LM\\x94a}\\x94(h\\x0c}\\x94\\x8c\\x06sample\\x94K\\x00N\\x86\\x94sh\\x0e]\\x94(h\\x10h\\x11eh\\x10h\\x13)\\x81\\x94}\\x94h\\x16h\\x10sbh\\x11h\\x13)\\x81\\x94}\\x94h\\x16h\\x11sb\\x8c\\x06sample\\x94h;ub\\x8c\\x07threads\\x94K\\x01\\x8c\\tresources\\x94h\\x06\\x8c\\tResources\\x94\\x93\\x94)\\x81\\x94(K\\x01K\\x01\\x8c\\x04/tmp\\x94e}\\x94(h\\x0c}\\x94(\\x8c\\x06_cores\\x94K\\x00N\\x86\\x94\\x8c\\x06_nodes\\x94K\\x01N\\x86\\x94\\x8c\\x06tmpdir\\x94K\\x02N\\x86\\x94uh\\x0e]\\x94(h\\x10h\\x11eh\\x10h\\x13)\\x81\\x94}\\x94h\\x16h\\x10sbh\\x11h\\x13)\\x81\\x94}\\x94h\\x16h\\x11sbhNK\\x01hPK\\x01hRhKub\\x8c\\x03log\\x94h\\x06\\x8c\\x03Log\\x94\\x93\\x94)\\x81\\x94\\x8c8logs/notebooks/2_filtering/1633LM/2-atac_filtering.ipynb\\x94a}\\x94(h\\x0c}\\x94\\x8c\\x08notebook\\x94K\\x00N\\x86\\x94sh\\x0e]\\x94(h\\x10h\\x11eh\\x10h\\x13)\\x81\\x94}\\x94h\\x16h\\x10sbh\\x11h\\x13)\\x81\\x94}\\x94h\\x16h\\x11sbh`h]ub\\x8c\\x06config\\x94}\\x94(\\x8c\\x08data_dir\\x94\\x8c,/home/brandon/data/pingyin/snmultiome/input/\\x94\\x8c\\x0bresults_dir\\x94\\x8c\\x08results/\\x94\\x8c\\x07samples\\x94]\\x94(\\x8c\\x061619LM\\x94\\x8c\\x061619MM\\x94\\x8c\\x061633LM\\x94\\x8c\\r1633MM-repeat\\x94e\\x8c\\x03RNA\\x94}\\x94(\\x8c\\x10celltypist_model\\x94\\x8c\\x1bHuman_Endometrium_Atlas.pkl\\x94\\x8c\\nqc_filters\\x94}\\x94(\\x8c\\tmin_genes\\x94K\\xc8\\x8c\\rpct_counts_mt\\x94K\\x05\\x8c\\x0fpct_counts_ribo\\x94K\\x05\\x8c\\rdoublet_score\\x94G?\\xd3333333uu\\x8c\\x04ATAC\\x94}\\x94(\\x8c\\tblacklist\\x94\\x8c\\x1fresources/hg38-blacklist.v2.bed\\x94\\x8c\\nqc_filters\\x94h)uu\\x8c\\x04rule\\x94\\x8c\\x0eatac_filtering\\x94\\x8c\\x0fbench_iteration\\x94N\\x8c\\tscriptdir\\x94\\x8cM/home/brandon/code/pingyin/snmultiome/workflow/rules/../notebooks/2_filtering\\x94ub.');del script;from snakemake.logging import logger;from snakemake.script import snakemake;import os; os.chdir(r'/home/brandon/code/pingyin/snmultiome');\n",
    "######## snakemake preamble end #########\n"
   ]
  },
  {
   "cell_type": "markdown",
   "metadata": {},
   "source": [
    "# Filter cells based on ATAC metrics"
   ]
  },
  {
   "cell_type": "code",
   "execution_count": 2,
   "metadata": {
    "execution": {
     "iopub.execute_input": "2025-04-02T22:54:11.540004Z",
     "iopub.status.busy": "2025-04-02T22:54:11.539628Z",
     "iopub.status.idle": "2025-04-02T22:54:13.266220Z",
     "shell.execute_reply": "2025-04-02T22:54:13.265460Z"
    }
   },
   "outputs": [],
   "source": [
    "# Load libraries\n",
    "import snapatac2 as snap\n",
    "from snakemake.script import snakemake"
   ]
  },
  {
   "cell_type": "code",
   "execution_count": 3,
   "metadata": {
    "execution": {
     "iopub.execute_input": "2025-04-02T22:54:13.268435Z",
     "iopub.status.busy": "2025-04-02T22:54:13.267956Z",
     "iopub.status.idle": "2025-04-02T22:54:13.271167Z",
     "shell.execute_reply": "2025-04-02T22:54:13.270613Z"
    }
   },
   "outputs": [],
   "source": [
    "# Read input and output paths from Snakemake\n",
    "input_file = snakemake.input[0]\n",
    "output_file = snakemake.output[0]\n",
    "qc_filters = snakemake.params.qc_filters\n",
    "n_jobs = snakemake.threads"
   ]
  },
  {
   "cell_type": "code",
   "execution_count": 4,
   "metadata": {
    "execution": {
     "iopub.execute_input": "2025-04-02T22:54:13.273489Z",
     "iopub.status.busy": "2025-04-02T22:54:13.273230Z",
     "iopub.status.idle": "2025-04-02T22:54:30.550672Z",
     "shell.execute_reply": "2025-04-02T22:54:30.549922Z"
    }
   },
   "outputs": [
    {
     "data": {
      "text/plain": [
       "AnnData object with n_obs x n_vars = 9399 x 6062095 backed at 'results/2_filtering/1633LM/1633LM.atac.h5ad'\n",
       "    obs: 'n_fragment', 'frac_dup', 'frac_mito', 'tsse', 'doublet_probability', 'doublet_score'\n",
       "    var: 'count', 'selected'\n",
       "    uns: 'frac_overlap_TSS', 'library_tsse', 'TSS_profile', 'frag_size_distr', 'scrublet_sim_doublet_score', 'reference_sequences'\n",
       "    obsm: 'fragment_paired'"
      ]
     },
     "execution_count": 4,
     "metadata": {},
     "output_type": "execute_result"
    }
   ],
   "source": [
    "# Load the data\n",
    "adata = snap.read(input_file, backed=\"r\").copy(output_file)\n",
    "adata"
   ]
  },
  {
   "cell_type": "code",
   "execution_count": 5,
   "metadata": {
    "execution": {
     "iopub.execute_input": "2025-04-02T22:54:30.574136Z",
     "iopub.status.busy": "2025-04-02T22:54:30.573900Z",
     "iopub.status.idle": "2025-04-02T22:54:43.754188Z",
     "shell.execute_reply": "2025-04-02T22:54:43.753644Z"
    }
   },
   "outputs": [
    {
     "data": {
      "text/plain": [
       "AnnData object with n_obs x n_vars = 6022 x 6062095 backed at 'results/2_filtering/1633LM/1633LM.atac.h5ad'\n",
       "    obs: 'n_fragment', 'frac_dup', 'frac_mito', 'tsse', 'doublet_probability', 'doublet_score'\n",
       "    var: 'count', 'selected'\n",
       "    uns: 'frac_overlap_TSS', 'library_tsse', 'TSS_profile', 'frag_size_distr', 'scrublet_sim_doublet_score', 'reference_sequences'\n",
       "    obsm: 'fragment_paired'"
      ]
     },
     "execution_count": 5,
     "metadata": {},
     "output_type": "execute_result"
    }
   ],
   "source": [
    "snap.pp.filter_cells(\n",
    "    adata,\n",
    "    min_counts=qc_filters.get(\"min_counts\"),\n",
    "    min_tsse=qc_filters.get(\"min_tsse\"),\n",
    "    max_counts=qc_filters.get(\"max_counts\"),\n",
    "    max_tsse=qc_filters.get(\"max_tsse\"),\n",
    "    n_jobs=n_jobs,\n",
    ")\n",
    "adata"
   ]
  },
  {
   "cell_type": "code",
   "execution_count": 6,
   "metadata": {
    "execution": {
     "iopub.execute_input": "2025-04-02T22:54:43.755658Z",
     "iopub.status.busy": "2025-04-02T22:54:43.755279Z",
     "iopub.status.idle": "2025-04-02T22:54:52.850331Z",
     "shell.execute_reply": "2025-04-02T22:54:52.849776Z"
    }
   },
   "outputs": [
    {
     "name": "stderr",
     "output_type": "stream",
     "text": [
      "2025-04-02 17:54:43 - INFO - Detected doublet rate = 15.526%\n"
     ]
    },
    {
     "data": {
      "text/plain": [
       "AnnData object with n_obs x n_vars = 5087 x 6062095 backed at 'results/2_filtering/1633LM/1633LM.atac.h5ad'\n",
       "    obs: 'n_fragment', 'frac_dup', 'frac_mito', 'tsse', 'doublet_probability', 'doublet_score'\n",
       "    var: 'count', 'selected'\n",
       "    uns: 'doublet_rate', 'frac_overlap_TSS', 'library_tsse', 'TSS_profile', 'frag_size_distr', 'scrublet_sim_doublet_score', 'reference_sequences'\n",
       "    obsm: 'fragment_paired'"
      ]
     },
     "execution_count": 6,
     "metadata": {},
     "output_type": "execute_result"
    }
   ],
   "source": [
    "snap.pp.filter_doublets(adata, n_jobs=n_jobs)\n",
    "adata"
   ]
  },
  {
   "cell_type": "code",
   "execution_count": 7,
   "metadata": {
    "execution": {
     "iopub.execute_input": "2025-04-02T22:54:52.852064Z",
     "iopub.status.busy": "2025-04-02T22:54:52.851727Z",
     "iopub.status.idle": "2025-04-02T22:54:52.862687Z",
     "shell.execute_reply": "2025-04-02T22:54:52.862123Z"
    }
   },
   "outputs": [
    {
     "data": {
      "text/plain": [
       "Closed AnnData object"
      ]
     },
     "execution_count": 7,
     "metadata": {},
     "output_type": "execute_result"
    }
   ],
   "source": [
    "# Close object (saves to disk)\n",
    "adata.close()\n",
    "adata"
   ]
  }
 ],
 "metadata": {
  "kernelspec": {
   "display_name": "snapatac2_env",
   "language": "python",
   "name": "python3"
  },
  "language_info": {
   "codemirror_mode": {
    "name": "ipython",
    "version": 3
   },
   "file_extension": ".py",
   "mimetype": "text/x-python",
   "name": "python",
   "nbconvert_exporter": "python",
   "pygments_lexer": "ipython3",
   "version": "3.12.9"
  }
 },
 "nbformat": 4,
 "nbformat_minor": 2
}
