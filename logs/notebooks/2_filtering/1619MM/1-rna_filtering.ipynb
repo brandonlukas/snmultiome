{
 "cells": [
  {
   "cell_type": "code",
   "execution_count": 1,
   "id": "33a2bcab",
   "metadata": {
    "execution": {
     "iopub.execute_input": "2025-04-02T22:54:11.521296Z",
     "iopub.status.busy": "2025-04-02T22:54:11.520943Z",
     "iopub.status.idle": "2025-04-02T22:54:11.538584Z",
     "shell.execute_reply": "2025-04-02T22:54:11.538002Z"
    },
    "tags": [
     "snakemake-job-properties"
    ]
   },
   "outputs": [],
   "source": [
    "######## snakemake preamble start (automatically inserted, do not edit) ########\n",
    "import sys;sys.path.extend(['/home/brandon/miniconda3/envs/snapatac2_env/lib/python3.12/site-packages', '/home/brandon/code/pingyin/snmultiome/workflow/rules', '/home/brandon/code/pingyin/snmultiome/workflow', '/home/brandon/miniconda3/envs/snapatac2_env/bin', '/home/brandon/miniconda3/envs/snapatac2_env/lib/python3.12', '/home/brandon/miniconda3/envs/snapatac2_env/lib/python3.12/lib-dynload', '/home/brandon/miniconda3/envs/snapatac2_env/lib/python3.12/site-packages', '/home/brandon/.cache/snakemake/snakemake/source-cache/runtime-cache/tmp_fgzhb78/file/home/brandon/code/pingyin/snmultiome/workflow/rules/../notebooks/2_filtering', '/home/brandon/code/pingyin/snmultiome/workflow/rules/../notebooks/2_filtering']);import pickle;from snakemake import script;script.snakemake = pickle.loads(b'\\x80\\x04\\x95\\xb2\\x05\\x00\\x00\\x00\\x00\\x00\\x00\\x8c\\x10snakemake.script\\x94\\x8c\\tSnakemake\\x94\\x93\\x94)\\x81\\x94}\\x94(\\x8c\\x05input\\x94\\x8c\\x0csnakemake.io\\x94\\x8c\\nInputFiles\\x94\\x93\\x94)\\x81\\x94\\x8c+results/1_qc_metrics/1619MM/1619MM.rna.h5ad\\x94a}\\x94(\\x8c\\x06_names\\x94}\\x94\\x8c\\x12_allowed_overrides\\x94]\\x94(\\x8c\\x05index\\x94\\x8c\\x04sort\\x94eh\\x10h\\x06\\x8c\\x0eAttributeGuard\\x94\\x93\\x94)\\x81\\x94}\\x94\\x8c\\x04name\\x94h\\x10sbh\\x11h\\x13)\\x81\\x94}\\x94h\\x16h\\x11sbub\\x8c\\x06output\\x94h\\x06\\x8c\\x0bOutputFiles\\x94\\x93\\x94)\\x81\\x94\\x8c*results/2_filtering/1619MM/1619MM.rna.h5ad\\x94a}\\x94(h\\x0c}\\x94h\\x0e]\\x94(h\\x10h\\x11eh\\x10h\\x13)\\x81\\x94}\\x94h\\x16h\\x10sbh\\x11h\\x13)\\x81\\x94}\\x94h\\x16h\\x11sbub\\x8c\\r_params_store\\x94h\\x06\\x8c\\x06Params\\x94\\x93\\x94)\\x81\\x94}\\x94(\\x8c\\tmin_genes\\x94K\\xc8\\x8c\\rpct_counts_mt\\x94K\\x05\\x8c\\x0fpct_counts_ribo\\x94K\\x05\\x8c\\rdoublet_score\\x94G?\\xd3333333ua}\\x94(h\\x0c}\\x94\\x8c\\nqc_filters\\x94K\\x00N\\x86\\x94sh\\x0e]\\x94(h\\x10h\\x11eh\\x10h\\x13)\\x81\\x94}\\x94h\\x16h\\x10sbh\\x11h\\x13)\\x81\\x94}\\x94h\\x16h\\x11sbh0h)ub\\x8c\\r_params_types\\x94}\\x94\\x8c\\twildcards\\x94h\\x06\\x8c\\tWildcards\\x94\\x93\\x94)\\x81\\x94\\x8c\\x061619MM\\x94a}\\x94(h\\x0c}\\x94\\x8c\\x06sample\\x94K\\x00N\\x86\\x94sh\\x0e]\\x94(h\\x10h\\x11eh\\x10h\\x13)\\x81\\x94}\\x94h\\x16h\\x10sbh\\x11h\\x13)\\x81\\x94}\\x94h\\x16h\\x11sb\\x8c\\x06sample\\x94h=ub\\x8c\\x07threads\\x94K\\x01\\x8c\\tresources\\x94h\\x06\\x8c\\tResources\\x94\\x93\\x94)\\x81\\x94(K\\x01K\\x01\\x8c\\x04/tmp\\x94e}\\x94(h\\x0c}\\x94(\\x8c\\x06_cores\\x94K\\x00N\\x86\\x94\\x8c\\x06_nodes\\x94K\\x01N\\x86\\x94\\x8c\\x06tmpdir\\x94K\\x02N\\x86\\x94uh\\x0e]\\x94(h\\x10h\\x11eh\\x10h\\x13)\\x81\\x94}\\x94h\\x16h\\x10sbh\\x11h\\x13)\\x81\\x94}\\x94h\\x16h\\x11sbhPK\\x01hRK\\x01hThMub\\x8c\\x03log\\x94h\\x06\\x8c\\x03Log\\x94\\x93\\x94)\\x81\\x94\\x8c7logs/notebooks/2_filtering/1619MM/1-rna_filtering.ipynb\\x94a}\\x94(h\\x0c}\\x94\\x8c\\x08notebook\\x94K\\x00N\\x86\\x94sh\\x0e]\\x94(h\\x10h\\x11eh\\x10h\\x13)\\x81\\x94}\\x94h\\x16h\\x10sbh\\x11h\\x13)\\x81\\x94}\\x94h\\x16h\\x11sbhbh_ub\\x8c\\x06config\\x94}\\x94(\\x8c\\x08data_dir\\x94\\x8c,/home/brandon/data/pingyin/snmultiome/input/\\x94\\x8c\\x0bresults_dir\\x94\\x8c\\x08results/\\x94\\x8c\\x07samples\\x94]\\x94(\\x8c\\x061619LM\\x94\\x8c\\x061619MM\\x94\\x8c\\x061633LM\\x94\\x8c\\r1633MM-repeat\\x94e\\x8c\\x03RNA\\x94}\\x94(\\x8c\\x10celltypist_model\\x94\\x8c\\x1bHuman_Endometrium_Atlas.pkl\\x94\\x8c\\nqc_filters\\x94h)u\\x8c\\x04ATAC\\x94}\\x94(\\x8c\\tblacklist\\x94\\x8c\\x1fresources/hg38-blacklist.v2.bed\\x94\\x8c\\nqc_filters\\x94}\\x94(\\x8c\\x08min_tsse\\x94K\\x05\\x8c\\nmin_counts\\x94M\\xe8\\x03uuu\\x8c\\x04rule\\x94\\x8c\\rrna_filtering\\x94\\x8c\\x0fbench_iteration\\x94N\\x8c\\tscriptdir\\x94\\x8cM/home/brandon/code/pingyin/snmultiome/workflow/rules/../notebooks/2_filtering\\x94ub.');del script;from snakemake.logging import logger;from snakemake.script import snakemake;import os; os.chdir(r'/home/brandon/code/pingyin/snmultiome');\n",
    "######## snakemake preamble end #########\n"
   ]
  },
  {
   "cell_type": "markdown",
   "metadata": {},
   "source": [
    "# Filter cells based on RNA metrics"
   ]
  },
  {
   "cell_type": "code",
   "execution_count": 2,
   "metadata": {
    "execution": {
     "iopub.execute_input": "2025-04-02T22:54:11.541084Z",
     "iopub.status.busy": "2025-04-02T22:54:11.540241Z",
     "iopub.status.idle": "2025-04-02T22:54:13.922644Z",
     "shell.execute_reply": "2025-04-02T22:54:13.921904Z"
    }
   },
   "outputs": [],
   "source": [
    "# Load libraries\n",
    "import scanpy as sc\n",
    "from snakemake.script import snakemake"
   ]
  },
  {
   "cell_type": "code",
   "execution_count": 3,
   "metadata": {
    "execution": {
     "iopub.execute_input": "2025-04-02T22:54:13.924842Z",
     "iopub.status.busy": "2025-04-02T22:54:13.924332Z",
     "iopub.status.idle": "2025-04-02T22:54:13.927706Z",
     "shell.execute_reply": "2025-04-02T22:54:13.927030Z"
    }
   },
   "outputs": [],
   "source": [
    "# Read input and output paths from Snakemake\n",
    "input_file = snakemake.input[0]\n",
    "output_file = snakemake.output[0]\n",
    "qc_filters = snakemake.params.qc_filters"
   ]
  },
  {
   "cell_type": "code",
   "execution_count": 4,
   "metadata": {
    "execution": {
     "iopub.execute_input": "2025-04-02T22:54:13.929410Z",
     "iopub.status.busy": "2025-04-02T22:54:13.929066Z",
     "iopub.status.idle": "2025-04-02T22:54:14.120992Z",
     "shell.execute_reply": "2025-04-02T22:54:14.120189Z"
    }
   },
   "outputs": [
    {
     "data": {
      "text/plain": [
       "AnnData object with n_obs × n_vars = 7644 × 36601\n",
       "    obs: 'n_genes_by_counts', 'total_counts', 'total_counts_mt', 'pct_counts_mt', 'total_counts_ribo', 'pct_counts_ribo', 'total_counts_hb', 'pct_counts_hb', 'doublet_score', 'predicted_doublet'\n",
       "    var: 'gene_ids', 'mt', 'ribo', 'hb', 'n_cells_by_counts', 'mean_counts', 'pct_dropout_by_counts', 'total_counts'\n",
       "    uns: 'scrublet'"
      ]
     },
     "execution_count": 4,
     "metadata": {},
     "output_type": "execute_result"
    }
   ],
   "source": [
    "# Load the data\n",
    "adata = sc.read(input_file)\n",
    "adata"
   ]
  },
  {
   "cell_type": "code",
   "execution_count": 5,
   "metadata": {
    "execution": {
     "iopub.execute_input": "2025-04-02T22:54:14.147213Z",
     "iopub.status.busy": "2025-04-02T22:54:14.146745Z",
     "iopub.status.idle": "2025-04-02T22:54:14.255629Z",
     "shell.execute_reply": "2025-04-02T22:54:14.254973Z"
    }
   },
   "outputs": [
    {
     "data": {
      "text/plain": [
       "AnnData object with n_obs × n_vars = 7310 × 36601\n",
       "    obs: 'n_genes_by_counts', 'total_counts', 'total_counts_mt', 'pct_counts_mt', 'total_counts_ribo', 'pct_counts_ribo', 'total_counts_hb', 'pct_counts_hb', 'doublet_score', 'predicted_doublet', 'n_genes'\n",
       "    var: 'gene_ids', 'mt', 'ribo', 'hb', 'n_cells_by_counts', 'mean_counts', 'pct_dropout_by_counts', 'total_counts'\n",
       "    uns: 'scrublet'"
      ]
     },
     "execution_count": 5,
     "metadata": {},
     "output_type": "execute_result"
    }
   ],
   "source": [
    "# Filter cells based on number of genes and counts\n",
    "if threshold := qc_filters.get(\"min_genes\"):\n",
    "    sc.pp.filter_cells(adata, min_genes=threshold)\n",
    "\n",
    "if threshold := qc_filters.get(\"min_counts\"):\n",
    "    sc.pp.filter_cells(adata, min_counts=threshold)\n",
    "\n",
    "adata"
   ]
  },
  {
   "cell_type": "code",
   "execution_count": 6,
   "metadata": {
    "execution": {
     "iopub.execute_input": "2025-04-02T22:54:14.257716Z",
     "iopub.status.busy": "2025-04-02T22:54:14.257326Z",
     "iopub.status.idle": "2025-04-02T22:54:14.265045Z",
     "shell.execute_reply": "2025-04-02T22:54:14.264416Z"
    }
   },
   "outputs": [
    {
     "data": {
      "text/plain": [
       "View of AnnData object with n_obs × n_vars = 6846 × 36601\n",
       "    obs: 'n_genes_by_counts', 'total_counts', 'total_counts_mt', 'pct_counts_mt', 'total_counts_ribo', 'pct_counts_ribo', 'total_counts_hb', 'pct_counts_hb', 'doublet_score', 'predicted_doublet', 'n_genes'\n",
       "    var: 'gene_ids', 'mt', 'ribo', 'hb', 'n_cells_by_counts', 'mean_counts', 'pct_dropout_by_counts', 'total_counts'\n",
       "    uns: 'scrublet'"
      ]
     },
     "execution_count": 6,
     "metadata": {},
     "output_type": "execute_result"
    }
   ],
   "source": [
    "# Filter cells based on mitochondrial, ribosomal, and hemoglobin gene expression\n",
    "if threshold := qc_filters.get(\"pct_counts_mt\"):\n",
    "    adata = adata[adata.obs[\"pct_counts_mt\"] < threshold, :]\n",
    "\n",
    "if threshold := qc_filters.get(\"pct_counts_ribo\"):\n",
    "    adata = adata[adata.obs[\"pct_counts_ribo\"] < threshold, :]\n",
    "\n",
    "if threshold := qc_filters.get(\"pct_counts_hb\"):\n",
    "    adata = adata[adata.obs[\"pct_counts_hb\"] < threshold, :]\n",
    "\n",
    "adata"
   ]
  },
  {
   "cell_type": "code",
   "execution_count": 7,
   "metadata": {
    "execution": {
     "iopub.execute_input": "2025-04-02T22:54:14.267021Z",
     "iopub.status.busy": "2025-04-02T22:54:14.266637Z",
     "iopub.status.idle": "2025-04-02T22:54:14.272711Z",
     "shell.execute_reply": "2025-04-02T22:54:14.272034Z"
    }
   },
   "outputs": [
    {
     "data": {
      "text/plain": [
       "View of AnnData object with n_obs × n_vars = 6834 × 36601\n",
       "    obs: 'n_genes_by_counts', 'total_counts', 'total_counts_mt', 'pct_counts_mt', 'total_counts_ribo', 'pct_counts_ribo', 'total_counts_hb', 'pct_counts_hb', 'doublet_score', 'predicted_doublet', 'n_genes'\n",
       "    var: 'gene_ids', 'mt', 'ribo', 'hb', 'n_cells_by_counts', 'mean_counts', 'pct_dropout_by_counts', 'total_counts'\n",
       "    uns: 'scrublet'"
      ]
     },
     "execution_count": 7,
     "metadata": {},
     "output_type": "execute_result"
    }
   ],
   "source": [
    "# Filter cells based on doublet score\n",
    "if threshold := qc_filters.get(\"doublet_score\"):\n",
    "    adata = adata[adata.obs[\"doublet_score\"] < threshold, :]\n",
    "\n",
    "adata"
   ]
  },
  {
   "cell_type": "code",
   "execution_count": 8,
   "metadata": {
    "execution": {
     "iopub.execute_input": "2025-04-02T22:54:14.274252Z",
     "iopub.status.busy": "2025-04-02T22:54:14.274055Z",
     "iopub.status.idle": "2025-04-02T22:54:14.388081Z",
     "shell.execute_reply": "2025-04-02T22:54:14.387269Z"
    }
   },
   "outputs": [],
   "source": [
    "# Save the filtered data\n",
    "adata.write(output_file)"
   ]
  }
 ],
 "metadata": {
  "kernelspec": {
   "display_name": "snapatac2_env",
   "language": "python",
   "name": "python3"
  },
  "language_info": {
   "codemirror_mode": {
    "name": "ipython",
    "version": 3
   },
   "file_extension": ".py",
   "mimetype": "text/x-python",
   "name": "python",
   "nbconvert_exporter": "python",
   "pygments_lexer": "ipython3",
   "version": "3.12.9"
  }
 },
 "nbformat": 4,
 "nbformat_minor": 2
}
