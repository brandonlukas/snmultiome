{
 "cells": [
  {
   "cell_type": "code",
   "execution_count": 1,
   "id": "142b4222",
   "metadata": {
    "execution": {
     "iopub.execute_input": "2025-04-02T22:56:17.691021Z",
     "iopub.status.busy": "2025-04-02T22:56:17.690875Z",
     "iopub.status.idle": "2025-04-02T22:56:17.708699Z",
     "shell.execute_reply": "2025-04-02T22:56:17.708234Z"
    },
    "tags": [
     "snakemake-job-properties"
    ]
   },
   "outputs": [],
   "source": [
    "######## snakemake preamble start (automatically inserted, do not edit) ########\n",
    "import sys;sys.path.extend(['/home/brandon/miniconda3/envs/snapatac2_env/lib/python3.12/site-packages', '/home/brandon/code/pingyin/snmultiome/workflow/rules', '/home/brandon/code/pingyin/snmultiome/workflow', '/home/brandon/miniconda3/envs/snapatac2_env/bin', '/home/brandon/miniconda3/envs/snapatac2_env/lib/python3.12', '/home/brandon/miniconda3/envs/snapatac2_env/lib/python3.12/lib-dynload', '/home/brandon/miniconda3/envs/snapatac2_env/lib/python3.12/site-packages', '/home/brandon/.cache/snakemake/snakemake/source-cache/runtime-cache/tmpwluz2zko/file/home/brandon/code/pingyin/snmultiome/workflow/rules/../notebooks/2_filtering', '/home/brandon/code/pingyin/snmultiome/workflow/rules/../notebooks/2_filtering']);import pickle;from snakemake import script;script.snakemake = pickle.loads(b'\\x80\\x04\\x95\\xb6\\x05\\x00\\x00\\x00\\x00\\x00\\x00\\x8c\\x10snakemake.script\\x94\\x8c\\tSnakemake\\x94\\x93\\x94)\\x81\\x94}\\x94(\\x8c\\x05input\\x94\\x8c\\x0csnakemake.io\\x94\\x8c\\nInputFiles\\x94\\x93\\x94)\\x81\\x94\\x8c,results/1_qc_metrics/1619LM/1619LM.atac.h5ad\\x94a}\\x94(\\x8c\\x06_names\\x94}\\x94\\x8c\\x12_allowed_overrides\\x94]\\x94(\\x8c\\x05index\\x94\\x8c\\x04sort\\x94eh\\x10h\\x06\\x8c\\x0eAttributeGuard\\x94\\x93\\x94)\\x81\\x94}\\x94\\x8c\\x04name\\x94h\\x10sbh\\x11h\\x13)\\x81\\x94}\\x94h\\x16h\\x11sbub\\x8c\\x06output\\x94h\\x06\\x8c\\x0bOutputFiles\\x94\\x93\\x94)\\x81\\x94\\x8c+results/2_filtering/1619LM/1619LM.atac.h5ad\\x94a}\\x94(h\\x0c}\\x94h\\x0e]\\x94(h\\x10h\\x11eh\\x10h\\x13)\\x81\\x94}\\x94h\\x16h\\x10sbh\\x11h\\x13)\\x81\\x94}\\x94h\\x16h\\x11sbub\\x8c\\r_params_store\\x94h\\x06\\x8c\\x06Params\\x94\\x93\\x94)\\x81\\x94}\\x94(\\x8c\\x08min_tsse\\x94K\\x05\\x8c\\nmin_counts\\x94M\\xe8\\x03ua}\\x94(h\\x0c}\\x94\\x8c\\nqc_filters\\x94K\\x00N\\x86\\x94sh\\x0e]\\x94(h\\x10h\\x11eh\\x10h\\x13)\\x81\\x94}\\x94h\\x16h\\x10sbh\\x11h\\x13)\\x81\\x94}\\x94h\\x16h\\x11sbh.h)ub\\x8c\\r_params_types\\x94}\\x94\\x8c\\twildcards\\x94h\\x06\\x8c\\tWildcards\\x94\\x93\\x94)\\x81\\x94\\x8c\\x061619LM\\x94a}\\x94(h\\x0c}\\x94\\x8c\\x06sample\\x94K\\x00N\\x86\\x94sh\\x0e]\\x94(h\\x10h\\x11eh\\x10h\\x13)\\x81\\x94}\\x94h\\x16h\\x10sbh\\x11h\\x13)\\x81\\x94}\\x94h\\x16h\\x11sb\\x8c\\x06sample\\x94h;ub\\x8c\\x07threads\\x94K\\x0c\\x8c\\tresources\\x94h\\x06\\x8c\\tResources\\x94\\x93\\x94)\\x81\\x94(K\\x0cK\\x01\\x8c\\x04/tmp\\x94e}\\x94(h\\x0c}\\x94(\\x8c\\x06_cores\\x94K\\x00N\\x86\\x94\\x8c\\x06_nodes\\x94K\\x01N\\x86\\x94\\x8c\\x06tmpdir\\x94K\\x02N\\x86\\x94uh\\x0e]\\x94(h\\x10h\\x11eh\\x10h\\x13)\\x81\\x94}\\x94h\\x16h\\x10sbh\\x11h\\x13)\\x81\\x94}\\x94h\\x16h\\x11sbhNK\\x0chPK\\x01hRhKub\\x8c\\x03log\\x94h\\x06\\x8c\\x03Log\\x94\\x93\\x94)\\x81\\x94\\x8c8logs/notebooks/2_filtering/1619LM/2-atac_filtering.ipynb\\x94a}\\x94(h\\x0c}\\x94\\x8c\\x08notebook\\x94K\\x00N\\x86\\x94sh\\x0e]\\x94(h\\x10h\\x11eh\\x10h\\x13)\\x81\\x94}\\x94h\\x16h\\x10sbh\\x11h\\x13)\\x81\\x94}\\x94h\\x16h\\x11sbh`h]ub\\x8c\\x06config\\x94}\\x94(\\x8c\\x08data_dir\\x94\\x8c,/home/brandon/data/pingyin/snmultiome/input/\\x94\\x8c\\x0bresults_dir\\x94\\x8c\\x08results/\\x94\\x8c\\x07samples\\x94]\\x94(\\x8c\\x061619LM\\x94\\x8c\\x061619MM\\x94\\x8c\\x061633LM\\x94\\x8c\\r1633MM-repeat\\x94e\\x8c\\x03RNA\\x94}\\x94(\\x8c\\x10celltypist_model\\x94\\x8c\\x1bHuman_Endometrium_Atlas.pkl\\x94\\x8c\\nqc_filters\\x94}\\x94(\\x8c\\tmin_genes\\x94K\\xc8\\x8c\\rpct_counts_mt\\x94K\\x05\\x8c\\x0fpct_counts_ribo\\x94K\\x05\\x8c\\rdoublet_score\\x94G?\\xd3333333uu\\x8c\\x04ATAC\\x94}\\x94(\\x8c\\tblacklist\\x94\\x8c\\x1fresources/hg38-blacklist.v2.bed\\x94\\x8c\\nqc_filters\\x94h)uu\\x8c\\x04rule\\x94\\x8c\\x0eatac_filtering\\x94\\x8c\\x0fbench_iteration\\x94N\\x8c\\tscriptdir\\x94\\x8cM/home/brandon/code/pingyin/snmultiome/workflow/rules/../notebooks/2_filtering\\x94ub.');del script;from snakemake.logging import logger;from snakemake.script import snakemake;import os; os.chdir(r'/home/brandon/code/pingyin/snmultiome');\n",
    "######## snakemake preamble end #########\n"
   ]
  },
  {
   "cell_type": "markdown",
   "metadata": {},
   "source": [
    "# Filter cells based on ATAC metrics"
   ]
  },
  {
   "cell_type": "code",
   "execution_count": 2,
   "metadata": {
    "execution": {
     "iopub.execute_input": "2025-04-02T22:56:17.710958Z",
     "iopub.status.busy": "2025-04-02T22:56:17.710537Z",
     "iopub.status.idle": "2025-04-02T22:56:19.368771Z",
     "shell.execute_reply": "2025-04-02T22:56:19.368202Z"
    }
   },
   "outputs": [],
   "source": [
    "# Load libraries\n",
    "import snapatac2 as snap\n",
    "from snakemake.script import snakemake"
   ]
  },
  {
   "cell_type": "code",
   "execution_count": 3,
   "metadata": {
    "execution": {
     "iopub.execute_input": "2025-04-02T22:56:19.371061Z",
     "iopub.status.busy": "2025-04-02T22:56:19.370725Z",
     "iopub.status.idle": "2025-04-02T22:56:19.374078Z",
     "shell.execute_reply": "2025-04-02T22:56:19.373576Z"
    }
   },
   "outputs": [],
   "source": [
    "# Read input and output paths from Snakemake\n",
    "input_file = snakemake.input[0]\n",
    "output_file = snakemake.output[0]\n",
    "qc_filters = snakemake.params.qc_filters\n",
    "n_jobs = snakemake.threads"
   ]
  },
  {
   "cell_type": "code",
   "execution_count": 4,
   "metadata": {
    "execution": {
     "iopub.execute_input": "2025-04-02T22:56:19.375386Z",
     "iopub.status.busy": "2025-04-02T22:56:19.375197Z",
     "iopub.status.idle": "2025-04-02T22:56:49.247906Z",
     "shell.execute_reply": "2025-04-02T22:56:49.247393Z"
    }
   },
   "outputs": [
    {
     "data": {
      "text/plain": [
       "AnnData object with n_obs x n_vars = 8515 x 6062095 backed at 'results/2_filtering/1619LM/1619LM.atac.h5ad'\n",
       "    obs: 'n_fragment', 'frac_dup', 'frac_mito', 'tsse', 'doublet_probability', 'doublet_score'\n",
       "    var: 'count', 'selected'\n",
       "    uns: 'library_tsse', 'frac_overlap_TSS', 'frag_size_distr', 'reference_sequences', 'scrublet_sim_doublet_score', 'TSS_profile'\n",
       "    obsm: 'fragment_paired'"
      ]
     },
     "execution_count": 4,
     "metadata": {},
     "output_type": "execute_result"
    }
   ],
   "source": [
    "# Load the data\n",
    "adata = snap.read(input_file, backed=\"r\").copy(output_file)\n",
    "adata"
   ]
  },
  {
   "cell_type": "code",
   "execution_count": 5,
   "metadata": {
    "execution": {
     "iopub.execute_input": "2025-04-02T22:56:49.270206Z",
     "iopub.status.busy": "2025-04-02T22:56:49.269975Z",
     "iopub.status.idle": "2025-04-02T22:57:07.839823Z",
     "shell.execute_reply": "2025-04-02T22:57:07.839277Z"
    }
   },
   "outputs": [
    {
     "data": {
      "text/plain": [
       "AnnData object with n_obs x n_vars = 5058 x 6062095 backed at 'results/2_filtering/1619LM/1619LM.atac.h5ad'\n",
       "    obs: 'n_fragment', 'frac_dup', 'frac_mito', 'tsse', 'doublet_probability', 'doublet_score'\n",
       "    var: 'count', 'selected'\n",
       "    uns: 'library_tsse', 'frac_overlap_TSS', 'frag_size_distr', 'reference_sequences', 'scrublet_sim_doublet_score', 'TSS_profile'\n",
       "    obsm: 'fragment_paired'"
      ]
     },
     "execution_count": 5,
     "metadata": {},
     "output_type": "execute_result"
    }
   ],
   "source": [
    "snap.pp.filter_cells(\n",
    "    adata,\n",
    "    min_counts=qc_filters.get(\"min_counts\"),\n",
    "    min_tsse=qc_filters.get(\"min_tsse\"),\n",
    "    max_counts=qc_filters.get(\"max_counts\"),\n",
    "    max_tsse=qc_filters.get(\"max_tsse\"),\n",
    "    n_jobs=n_jobs,\n",
    ")\n",
    "adata"
   ]
  },
  {
   "cell_type": "code",
   "execution_count": 6,
   "metadata": {
    "execution": {
     "iopub.execute_input": "2025-04-02T22:57:07.841314Z",
     "iopub.status.busy": "2025-04-02T22:57:07.841111Z",
     "iopub.status.idle": "2025-04-02T22:57:19.942388Z",
     "shell.execute_reply": "2025-04-02T22:57:19.941862Z"
    }
   },
   "outputs": [
    {
     "name": "stderr",
     "output_type": "stream",
     "text": [
      "2025-04-02 17:57:07 - INFO - Detected doublet rate = 14.828%\n"
     ]
    },
    {
     "data": {
      "text/plain": [
       "AnnData object with n_obs x n_vars = 4308 x 6062095 backed at 'results/2_filtering/1619LM/1619LM.atac.h5ad'\n",
       "    obs: 'n_fragment', 'frac_dup', 'frac_mito', 'tsse', 'doublet_probability', 'doublet_score'\n",
       "    var: 'count', 'selected'\n",
       "    uns: 'library_tsse', 'frac_overlap_TSS', 'frag_size_distr', 'reference_sequences', 'scrublet_sim_doublet_score', 'doublet_rate', 'TSS_profile'\n",
       "    obsm: 'fragment_paired'"
      ]
     },
     "execution_count": 6,
     "metadata": {},
     "output_type": "execute_result"
    }
   ],
   "source": [
    "snap.pp.filter_doublets(adata, n_jobs=n_jobs)\n",
    "adata"
   ]
  },
  {
   "cell_type": "code",
   "execution_count": 7,
   "metadata": {
    "execution": {
     "iopub.execute_input": "2025-04-02T22:57:19.943853Z",
     "iopub.status.busy": "2025-04-02T22:57:19.943580Z",
     "iopub.status.idle": "2025-04-02T22:57:19.960265Z",
     "shell.execute_reply": "2025-04-02T22:57:19.959729Z"
    }
   },
   "outputs": [
    {
     "data": {
      "text/plain": [
       "Closed AnnData object"
      ]
     },
     "execution_count": 7,
     "metadata": {},
     "output_type": "execute_result"
    }
   ],
   "source": [
    "# Close object (saves to disk)\n",
    "adata.close()\n",
    "adata"
   ]
  }
 ],
 "metadata": {
  "kernelspec": {
   "display_name": "snapatac2_env",
   "language": "python",
   "name": "python3"
  },
  "language_info": {
   "codemirror_mode": {
    "name": "ipython",
    "version": 3
   },
   "file_extension": ".py",
   "mimetype": "text/x-python",
   "name": "python",
   "nbconvert_exporter": "python",
   "pygments_lexer": "ipython3",
   "version": "3.12.9"
  }
 },
 "nbformat": 4,
 "nbformat_minor": 2
}
