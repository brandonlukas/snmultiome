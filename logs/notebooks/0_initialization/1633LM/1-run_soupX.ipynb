{
 "cells": [
  {
   "cell_type": "code",
   "execution_count": 1,
   "id": "c5d8d23a",
   "metadata": {
    "execution": {
     "iopub.execute_input": "2025-03-30T19:33:58.396756Z",
     "iopub.status.busy": "2025-03-30T19:33:58.395709Z",
     "iopub.status.idle": "2025-03-30T19:33:58.431584Z",
     "shell.execute_reply": "2025-03-30T19:33:58.430251Z"
    },
    "tags": [
     "snakemake-job-properties"
    ]
   },
   "outputs": [],
   "source": [
    "\n",
    "######## snakemake preamble start (automatically inserted, do not edit) ########\n",
    "library(methods)\n",
    "Snakemake <- setClass(\n",
    "    \"Snakemake\",\n",
    "    slots = c(\n",
    "        input = \"list\",\n",
    "        output = \"list\",\n",
    "        params = \"list\",\n",
    "        wildcards = \"list\",\n",
    "        threads = \"numeric\",\n",
    "        log = \"list\",\n",
    "        resources = \"list\",\n",
    "        config = \"list\",\n",
    "        rule = \"character\",\n",
    "        bench_iteration = \"numeric\",\n",
    "        scriptdir = \"character\",\n",
    "        source = \"function\"\n",
    "    )\n",
    ")\n",
    "snakemake <- Snakemake(\n",
    "    input = list('/home/brandon/data/pingyin/snmultiome/input/1633LM/outs'),\n",
    "    output = list('results/0_initialization/1633LM/SoupX'),\n",
    "    params = list(),\n",
    "    wildcards = list('1633LM', \"sample\" = '1633LM'),\n",
    "    threads = 1,\n",
    "    log = list('logs/notebooks/0_initialization/1633LM/1-run_soupX.ipynb', \"notebook\" = 'logs/notebooks/0_initialization/1633LM/1-run_soupX.ipynb'),\n",
    "    resources = list('tmpdir', \"tmpdir\" = '/tmp'),\n",
    "    config = list(\"data_dir\" = '/home/brandon/data/pingyin/snmultiome/input/', \"results_dir\" = 'results/', \"samples\" = c('1619LM', '1619MM', '1633LM', '1633MM-repeat'), \"RNA\" = list(\"celltypist_model\" = 'Human_Endometrium_Atlas.pkl', \"qc\" = list(\"min_genes\" = 200L, \"min_counts\" = 500L, \"pct_counts_mt\" = 5L, \"pct_counts_ribo\" = 5L, \"doublet_score\" = 0.3, \"min_cells\" = 3L)), \"ATAC\" = list(\"blacklist\" = 'resources/hg38-blacklist.v2.bed', \"qc\" = list(\"min_tsse\" = 7L, \"min_counts\" = 1000L, \"min_cells\" = 3L))),\n",
    "    rule = 'run_soupX',\n",
    "    bench_iteration = as.numeric(NA),\n",
    "    scriptdir = '/home/brandon/code/pingyin/snmultiome/workflow/rules/../notebooks/0_initialization',\n",
    "    source = function(...){\n",
    "        old_wd <- getwd()\n",
    "        on.exit(setwd(old_wd), add = TRUE)\n",
    "\n",
    "        is_url <- grepl(\"^https?://\", snakemake@scriptdir)\n",
    "        file <- ifelse(is_url, file.path(snakemake@scriptdir, ...), ...)\n",
    "        if (!is_url) setwd(snakemake@scriptdir)\n",
    "        source(file)\n",
    "    }\n",
    ")\n",
    "setwd('/home/brandon/code/pingyin/snmultiome');\n",
    "\n",
    "######## snakemake preamble end #########\n"
   ]
  },
  {
   "cell_type": "markdown",
   "metadata": {},
   "source": [
    "# Ambient RNA removal with SoupX"
   ]
  },
  {
   "cell_type": "code",
   "execution_count": 2,
   "metadata": {
    "execution": {
     "iopub.execute_input": "2025-03-30T19:33:58.458053Z",
     "iopub.status.busy": "2025-03-30T19:33:58.434385Z",
     "iopub.status.idle": "2025-03-30T19:34:05.266165Z",
     "shell.execute_reply": "2025-03-30T19:34:05.265200Z"
    },
    "vscode": {
     "languageId": "r"
    }
   },
   "outputs": [
    {
     "name": "stderr",
     "output_type": "stream",
     "text": [
      "Loading required package: SingleCellExperiment\n",
      "\n"
     ]
    },
    {
     "name": "stderr",
     "output_type": "stream",
     "text": [
      "Loading required package: SummarizedExperiment\n",
      "\n"
     ]
    },
    {
     "name": "stderr",
     "output_type": "stream",
     "text": [
      "Loading required package: MatrixGenerics\n",
      "\n"
     ]
    },
    {
     "name": "stderr",
     "output_type": "stream",
     "text": [
      "Loading required package: matrixStats\n",
      "\n"
     ]
    },
    {
     "name": "stderr",
     "output_type": "stream",
     "text": [
      "\n",
      "Attaching package: ‘MatrixGenerics’\n",
      "\n",
      "\n"
     ]
    },
    {
     "name": "stderr",
     "output_type": "stream",
     "text": [
      "The following objects are masked from ‘package:matrixStats’:\n",
      "\n",
      "    colAlls, colAnyNAs, colAnys, colAvgsPerRowSet, colCollapse,\n",
      "    colCounts, colCummaxs, colCummins, colCumprods, colCumsums,\n",
      "    colDiffs, colIQRDiffs, colIQRs, colLogSumExps, colMadDiffs,\n",
      "    colMads, colMaxs, colMeans2, colMedians, colMins, colOrderStats,\n",
      "    colProds, colQuantiles, colRanges, colRanks, colSdDiffs, colSds,\n",
      "    colSums2, colTabulates, colVarDiffs, colVars, colWeightedMads,\n",
      "    colWeightedMeans, colWeightedMedians, colWeightedSds,\n",
      "    colWeightedVars, rowAlls, rowAnyNAs, rowAnys, rowAvgsPerColSet,\n",
      "    rowCollapse, rowCounts, rowCummaxs, rowCummins, rowCumprods,\n",
      "    rowCumsums, rowDiffs, rowIQRDiffs, rowIQRs, rowLogSumExps,\n",
      "    rowMadDiffs, rowMads, rowMaxs, rowMeans2, rowMedians, rowMins,\n",
      "    rowOrderStats, rowProds, rowQuantiles, rowRanges, rowRanks,\n",
      "    rowSdDiffs, rowSds, rowSums2, rowTabulates, rowVarDiffs, rowVars,\n",
      "    rowWeightedMads, rowWeightedMeans, rowWeightedMedians,\n",
      "    rowWeightedSds, rowWeightedVars\n",
      "\n",
      "\n"
     ]
    },
    {
     "name": "stderr",
     "output_type": "stream",
     "text": [
      "Loading required package: GenomicRanges\n",
      "\n"
     ]
    },
    {
     "name": "stderr",
     "output_type": "stream",
     "text": [
      "Loading required package: stats4\n",
      "\n"
     ]
    },
    {
     "name": "stderr",
     "output_type": "stream",
     "text": [
      "Loading required package: BiocGenerics\n",
      "\n"
     ]
    },
    {
     "name": "stderr",
     "output_type": "stream",
     "text": [
      "\n",
      "Attaching package: ‘BiocGenerics’\n",
      "\n",
      "\n"
     ]
    },
    {
     "name": "stderr",
     "output_type": "stream",
     "text": [
      "The following objects are masked from ‘package:stats’:\n",
      "\n",
      "    IQR, mad, sd, var, xtabs\n",
      "\n",
      "\n"
     ]
    },
    {
     "name": "stderr",
     "output_type": "stream",
     "text": [
      "The following objects are masked from ‘package:base’:\n",
      "\n",
      "    anyDuplicated, aperm, append, as.data.frame, basename, cbind,\n",
      "    colnames, dirname, do.call, duplicated, eval, evalq, Filter, Find,\n",
      "    get, grep, grepl, intersect, is.unsorted, lapply, Map, mapply,\n",
      "    match, mget, order, paste, pmax, pmax.int, pmin, pmin.int,\n",
      "    Position, rank, rbind, Reduce, rownames, sapply, saveRDS, setdiff,\n",
      "    table, tapply, union, unique, unsplit, which.max, which.min\n",
      "\n",
      "\n"
     ]
    },
    {
     "name": "stderr",
     "output_type": "stream",
     "text": [
      "Loading required package: S4Vectors\n",
      "\n"
     ]
    },
    {
     "name": "stderr",
     "output_type": "stream",
     "text": [
      "\n",
      "Attaching package: ‘S4Vectors’\n",
      "\n",
      "\n"
     ]
    },
    {
     "name": "stderr",
     "output_type": "stream",
     "text": [
      "The following object is masked from ‘package:utils’:\n",
      "\n",
      "    findMatches\n",
      "\n",
      "\n"
     ]
    },
    {
     "name": "stderr",
     "output_type": "stream",
     "text": [
      "The following objects are masked from ‘package:base’:\n",
      "\n",
      "    expand.grid, I, unname\n",
      "\n",
      "\n"
     ]
    },
    {
     "name": "stderr",
     "output_type": "stream",
     "text": [
      "Loading required package: IRanges\n",
      "\n"
     ]
    },
    {
     "name": "stderr",
     "output_type": "stream",
     "text": [
      "Loading required package: GenomeInfoDb\n",
      "\n"
     ]
    },
    {
     "name": "stderr",
     "output_type": "stream",
     "text": [
      "Loading required package: Biobase\n",
      "\n"
     ]
    },
    {
     "name": "stderr",
     "output_type": "stream",
     "text": [
      "Welcome to Bioconductor\n",
      "\n",
      "    Vignettes contain introductory material; view with\n",
      "    'browseVignettes()'. To cite Bioconductor, see\n",
      "    'citation(\"Biobase\")', and for packages 'citation(\"pkgname\")'.\n",
      "\n",
      "\n"
     ]
    },
    {
     "name": "stderr",
     "output_type": "stream",
     "text": [
      "\n",
      "Attaching package: ‘Biobase’\n",
      "\n",
      "\n"
     ]
    },
    {
     "name": "stderr",
     "output_type": "stream",
     "text": [
      "The following object is masked from ‘package:MatrixGenerics’:\n",
      "\n",
      "    rowMedians\n",
      "\n",
      "\n"
     ]
    },
    {
     "name": "stderr",
     "output_type": "stream",
     "text": [
      "The following objects are masked from ‘package:matrixStats’:\n",
      "\n",
      "    anyMissing, rowMedians\n",
      "\n",
      "\n"
     ]
    }
   ],
   "source": [
    "## Load libraries\n",
    "library(SoupX)\n",
    "library(DropletUtils)"
   ]
  },
  {
   "cell_type": "code",
   "execution_count": 3,
   "metadata": {
    "execution": {
     "iopub.execute_input": "2025-03-30T19:34:05.269013Z",
     "iopub.status.busy": "2025-03-30T19:34:05.268118Z",
     "iopub.status.idle": "2025-03-30T19:34:05.275926Z",
     "shell.execute_reply": "2025-03-30T19:34:05.275105Z"
    },
    "vscode": {
     "languageId": "r"
    }
   },
   "outputs": [],
   "source": [
    "## Read input and output paths from Snakemake\n",
    "data_dir <- snakemake@input[[1]]\n",
    "out_dir <- snakemake@output[[1]]"
   ]
  },
  {
   "cell_type": "code",
   "execution_count": 4,
   "metadata": {
    "execution": {
     "iopub.execute_input": "2025-03-30T19:34:05.278607Z",
     "iopub.status.busy": "2025-03-30T19:34:05.277873Z",
     "iopub.status.idle": "2025-03-30T19:34:50.952094Z",
     "shell.execute_reply": "2025-03-30T19:34:50.950294Z"
    },
    "vscode": {
     "languageId": "r"
    }
   },
   "outputs": [
    {
     "name": "stderr",
     "output_type": "stream",
     "text": [
      "Loading raw count data\n",
      "\n"
     ]
    },
    {
     "name": "stderr",
     "output_type": "stream",
     "text": [
      "10X data contains more than one type and is being returned as a list containing matrices of each type.\n",
      "\n"
     ]
    },
    {
     "name": "stderr",
     "output_type": "stream",
     "text": [
      "Loading cell-only count data\n",
      "\n"
     ]
    },
    {
     "name": "stderr",
     "output_type": "stream",
     "text": [
      "10X data contains more than one type and is being returned as a list containing matrices of each type.\n",
      "\n"
     ]
    },
    {
     "name": "stderr",
     "output_type": "stream",
     "text": [
      "Loading extra analysis data where available\n",
      "\n"
     ]
    },
    {
     "name": "stderr",
     "output_type": "stream",
     "text": [
      "571 genes passed tf-idf cut-off and 323 soup quantile filter.  Taking the top 100.\n",
      "\n"
     ]
    },
    {
     "name": "stderr",
     "output_type": "stream",
     "text": [
      "Using 331 independent estimates of rho.\n",
      "\n"
     ]
    },
    {
     "name": "stderr",
     "output_type": "stream",
     "text": [
      "Estimated global rho of 0.07\n",
      "\n"
     ]
    },
    {
     "name": "stderr",
     "output_type": "stream",
     "text": [
      "Warning message in sparseMatrix(i = out@i[w] + 1, j = out@j[w] + 1, x = out@x[w], :\n",
      "“'giveCsparse' is deprecated; setting repr=\"T\" for you”\n"
     ]
    },
    {
     "name": "stderr",
     "output_type": "stream",
     "text": [
      "Expanding counts from 15 clusters to 9460 cells.\n",
      "\n"
     ]
    },
    {
     "data": {
      "image/png": "[encoded data removed]",
      "text/plain": [
       "plot without title"
      ]
     },
     "metadata": {
      "image/png": {
       "height": 420,
       "width": 420
      }
     },
     "output_type": "display_data"
    }
   ],
   "source": [
    "## Load raw 10X data\n",
    "sc <- load10X(data_dir)\n",
    "\n",
    "## Estimate ambient RNA contamination\n",
    "sc <- autoEstCont(sc)\n",
    "\n",
    "## Adjust counts\n",
    "out <- adjustCounts(sc, roundToInt = TRUE)"
   ]
  },
  {
   "cell_type": "code",
   "execution_count": 5,
   "metadata": {
    "execution": {
     "iopub.execute_input": "2025-03-30T19:34:50.961191Z",
     "iopub.status.busy": "2025-03-30T19:34:50.959817Z",
     "iopub.status.idle": "2025-03-30T19:34:52.055222Z",
     "shell.execute_reply": "2025-03-30T19:34:52.053384Z"
    },
    "vscode": {
     "languageId": "r"
    }
   },
   "outputs": [],
   "source": [
    "## Write cleaned count matrix\n",
    "DropletUtils::write10xCounts(out_dir, out)"
   ]
  }
 ],
 "metadata": {
  "kernelspec": {
   "display_name": "R",
   "language": "R",
   "name": "ir"
  },
  "language_info": {
   "codemirror_mode": "r",
   "file_extension": ".r",
   "mimetype": "text/x-r-source",
   "name": "R",
   "pygments_lexer": "r",
   "version": "4.4.3"
  }
 },
 "nbformat": 4,
 "nbformat_minor": 2
}
