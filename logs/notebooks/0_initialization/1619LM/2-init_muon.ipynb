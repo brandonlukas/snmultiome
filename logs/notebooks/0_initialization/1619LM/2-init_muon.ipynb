{
 "cells": [
  {
   "cell_type": "code",
   "execution_count": 1,
   "id": "9b646243",
   "metadata": {
    "execution": {
     "iopub.execute_input": "2025-03-30T19:34:45.050670Z",
     "iopub.status.busy": "2025-03-30T19:34:45.050437Z",
     "iopub.status.idle": "2025-03-30T19:34:45.066484Z",
     "shell.execute_reply": "2025-03-30T19:34:45.065904Z"
    },
    "tags": [
     "snakemake-job-properties"
    ]
   },
   "outputs": [],
   "source": [
    "######## snakemake preamble start (automatically inserted, do not edit) ########\n",
    "import sys;sys.path.extend(['/home/brandon/miniconda3/envs/snapatac2_env/lib/python3.12/site-packages', '/home/brandon/code/pingyin/snmultiome/workflow/rules', '/home/brandon/code/pingyin/snmultiome/workflow', '/home/brandon/miniconda3/envs/snapatac2_env/bin', '/home/brandon/miniconda3/envs/snapatac2_env/lib/python3.12', '/home/brandon/miniconda3/envs/snapatac2_env/lib/python3.12/lib-dynload', '/home/brandon/miniconda3/envs/snapatac2_env/lib/python3.12/site-packages', '/home/brandon/.cache/snakemake/snakemake/source-cache/runtime-cache/tmpxr4c80a8/file/home/brandon/code/pingyin/snmultiome/workflow/rules/../notebooks/0_initialization', '/home/brandon/code/pingyin/snmultiome/workflow/rules/../notebooks/0_initialization']);import pickle;from snakemake import script;script.snakemake = pickle.loads(b'\\x80\\x04\\x95+\\x06\\x00\\x00\\x00\\x00\\x00\\x00\\x8c\\x10snakemake.script\\x94\\x8c\\tSnakemake\\x94\\x93\\x94)\\x81\\x94}\\x94(\\x8c\\x05input\\x94\\x8c\\x0csnakemake.io\\x94\\x8c\\nInputFiles\\x94\\x93\\x94)\\x81\\x94(\\x8cU/home/brandon/data/pingyin/snmultiome/input/1619LM/outs/filtered_feature_bc_matrix.h5\\x94\\x8c%results/0_initialization/1619LM/SoupX\\x94e}\\x94(\\x8c\\x06_names\\x94}\\x94(\\x8c\\x02h5\\x94K\\x00N\\x86\\x94\\x8c\\x05soupX\\x94K\\x01N\\x86\\x94u\\x8c\\x12_allowed_overrides\\x94]\\x94(\\x8c\\x05index\\x94\\x8c\\x04sort\\x94eh\\x15h\\x06\\x8c\\x0eAttributeGuard\\x94\\x93\\x94)\\x81\\x94}\\x94\\x8c\\x04name\\x94h\\x15sbh\\x16h\\x18)\\x81\\x94}\\x94h\\x1bh\\x16sbh\\x0fh\\nh\\x11h\\x0bub\\x8c\\x06output\\x94h\\x06\\x8c\\x0bOutputFiles\\x94\\x93\\x94)\\x81\\x94\\x8c+results/0_initialization/1619LM/1619LM.h5mu\\x94a}\\x94(h\\r}\\x94h\\x13]\\x94(h\\x15h\\x16eh\\x15h\\x18)\\x81\\x94}\\x94h\\x1bh\\x15sbh\\x16h\\x18)\\x81\\x94}\\x94h\\x1bh\\x16sbub\\x8c\\r_params_store\\x94h\\x06\\x8c\\x06Params\\x94\\x93\\x94)\\x81\\x94}\\x94(h\\r}\\x94h\\x13]\\x94(h\\x15h\\x16eh\\x15h\\x18)\\x81\\x94}\\x94h\\x1bh\\x15sbh\\x16h\\x18)\\x81\\x94}\\x94h\\x1bh\\x16sbub\\x8c\\r_params_types\\x94}\\x94\\x8c\\twildcards\\x94h\\x06\\x8c\\tWildcards\\x94\\x93\\x94)\\x81\\x94\\x8c\\x061619LM\\x94a}\\x94(h\\r}\\x94\\x8c\\x06sample\\x94K\\x00N\\x86\\x94sh\\x13]\\x94(h\\x15h\\x16eh\\x15h\\x18)\\x81\\x94}\\x94h\\x1bh\\x15sbh\\x16h\\x18)\\x81\\x94}\\x94h\\x1bh\\x16sb\\x8c\\x06sample\\x94h;ub\\x8c\\x07threads\\x94K\\x01\\x8c\\tresources\\x94h\\x06\\x8c\\tResources\\x94\\x93\\x94)\\x81\\x94(K\\x01K\\x01\\x8c\\x04/tmp\\x94e}\\x94(h\\r}\\x94(\\x8c\\x06_cores\\x94K\\x00N\\x86\\x94\\x8c\\x06_nodes\\x94K\\x01N\\x86\\x94\\x8c\\x06tmpdir\\x94K\\x02N\\x86\\x94uh\\x13]\\x94(h\\x15h\\x16eh\\x15h\\x18)\\x81\\x94}\\x94h\\x1bh\\x15sbh\\x16h\\x18)\\x81\\x94}\\x94h\\x1bh\\x16sbhNK\\x01hPK\\x01hRhKub\\x8c\\x03log\\x94h\\x06\\x8c\\x03Log\\x94\\x93\\x94)\\x81\\x94\\x8c8logs/notebooks/0_initialization/1619LM/2-init_muon.ipynb\\x94a}\\x94(h\\r}\\x94\\x8c\\x08notebook\\x94K\\x00N\\x86\\x94sh\\x13]\\x94(h\\x15h\\x16eh\\x15h\\x18)\\x81\\x94}\\x94h\\x1bh\\x15sbh\\x16h\\x18)\\x81\\x94}\\x94h\\x1bh\\x16sbh`h]ub\\x8c\\x06config\\x94}\\x94(\\x8c\\x08data_dir\\x94\\x8c,/home/brandon/data/pingyin/snmultiome/input/\\x94\\x8c\\x0bresults_dir\\x94\\x8c\\x08results/\\x94\\x8c\\x07samples\\x94]\\x94(\\x8c\\x061619LM\\x94\\x8c\\x061619MM\\x94\\x8c\\x061633LM\\x94\\x8c\\r1633MM-repeat\\x94e\\x8c\\x03RNA\\x94}\\x94(\\x8c\\x10celltypist_model\\x94\\x8c\\x1bHuman_Endometrium_Atlas.pkl\\x94\\x8c\\x02qc\\x94}\\x94(\\x8c\\tmin_genes\\x94K\\xc8\\x8c\\nmin_counts\\x94M\\xf4\\x01\\x8c\\rpct_counts_mt\\x94K\\x05\\x8c\\x0fpct_counts_ribo\\x94K\\x05\\x8c\\rdoublet_score\\x94G?\\xd3333333\\x8c\\tmin_cells\\x94K\\x03uu\\x8c\\x04ATAC\\x94}\\x94(\\x8c\\tblacklist\\x94\\x8c\\x1fresources/hg38-blacklist.v2.bed\\x94\\x8c\\x02qc\\x94}\\x94(\\x8c\\x08min_tsse\\x94K\\x07\\x8c\\nmin_counts\\x94M\\xe8\\x03\\x8c\\tmin_cells\\x94K\\x03uuu\\x8c\\x04rule\\x94\\x8c\\tinit_muon\\x94\\x8c\\x0fbench_iteration\\x94N\\x8c\\tscriptdir\\x94\\x8cR/home/brandon/code/pingyin/snmultiome/workflow/rules/../notebooks/0_initialization\\x94ub.');del script;from snakemake.logging import logger;from snakemake.script import snakemake;import os; os.chdir(r'/home/brandon/code/pingyin/snmultiome');\n",
    "######## snakemake preamble end #########\n"
   ]
  },
  {
   "cell_type": "markdown",
   "metadata": {},
   "source": [
    "# Initialize muon object"
   ]
  },
  {
   "cell_type": "code",
   "execution_count": 2,
   "metadata": {
    "execution": {
     "iopub.execute_input": "2025-03-30T19:34:45.068274Z",
     "iopub.status.busy": "2025-03-30T19:34:45.068002Z",
     "iopub.status.idle": "2025-03-30T19:34:50.306137Z",
     "shell.execute_reply": "2025-03-30T19:34:50.305642Z"
    }
   },
   "outputs": [],
   "source": [
    "## Load libraries\n",
    "import muon as mu\n",
    "import scanpy as sc\n",
    "from snakemake.script import snakemake"
   ]
  },
  {
   "cell_type": "code",
   "execution_count": 3,
   "metadata": {
    "execution": {
     "iopub.execute_input": "2025-03-30T19:34:50.307939Z",
     "iopub.status.busy": "2025-03-30T19:34:50.307602Z",
     "iopub.status.idle": "2025-03-30T19:34:50.310426Z",
     "shell.execute_reply": "2025-03-30T19:34:50.309938Z"
    }
   },
   "outputs": [],
   "source": [
    "## Read input and output paths from Snakemake\n",
    "input_h5 = snakemake.input[\"h5\"]\n",
    "input_soupx = snakemake.input[\"soupX\"]\n",
    "output_file = snakemake.output[0]"
   ]
  },
  {
   "cell_type": "code",
   "execution_count": 4,
   "metadata": {
    "execution": {
     "iopub.execute_input": "2025-03-30T19:34:50.311914Z",
     "iopub.status.busy": "2025-03-30T19:34:50.311410Z",
     "iopub.status.idle": "2025-03-30T19:34:52.752849Z",
     "shell.execute_reply": "2025-03-30T19:34:52.752402Z"
    }
   },
   "outputs": [
    {
     "name": "stderr",
     "output_type": "stream",
     "text": [
      "/home/brandon/miniconda3/envs/snapatac2_env/lib/python3.12/site-packages/anndata/_core/anndata.py:1756: UserWarning: Variable names are not unique. To make them unique, call `.var_names_make_unique`.\n",
      "  utils.warn_names_duplicates(\"var\")\n",
      "/home/brandon/miniconda3/envs/snapatac2_env/lib/python3.12/site-packages/anndata/_core/anndata.py:1756: UserWarning: Variable names are not unique. To make them unique, call `.var_names_make_unique`.\n",
      "  utils.warn_names_duplicates(\"var\")\n"
     ]
    },
    {
     "name": "stdout",
     "output_type": "stream",
     "text": [
      "Added `interval` annotation for features from /home/brandon/data/pingyin/snmultiome/input/1619LM/outs/filtered_feature_bc_matrix.h5\n"
     ]
    },
    {
     "name": "stderr",
     "output_type": "stream",
     "text": [
      "/home/brandon/miniconda3/envs/snapatac2_env/lib/python3.12/site-packages/mudata/_core/mudata.py:1531: FutureWarning: From 0.4 .update() will not pull obs/var columns from individual modalities by default anymore. Set mudata.set_options(pull_on_update=False) to adopt the new behaviour, which will become the default. Use new pull_obs/pull_var and push_obs/push_var methods for more flexibility.\n",
      "  self._update_attr(\"var\", axis=0, join_common=join_common)\n",
      "/home/brandon/miniconda3/envs/snapatac2_env/lib/python3.12/site-packages/mudata/_core/mudata.py:915: UserWarning: var_names are not unique. To make them unique, call `.var_names_make_unique`.\n",
      "  warnings.warn(\n"
     ]
    },
    {
     "name": "stderr",
     "output_type": "stream",
     "text": [
      "/home/brandon/miniconda3/envs/snapatac2_env/lib/python3.12/site-packages/mudata/_core/mudata.py:1429: FutureWarning: From 0.4 .update() will not pull obs/var columns from individual modalities by default anymore. Set mudata.set_options(pull_on_update=False) to adopt the new behaviour, which will become the default. Use new pull_obs/pull_var and push_obs/push_var methods for more flexibility.\n",
      "  self._update_attr(\"obs\", axis=1, join_common=join_common)\n",
      "/home/brandon/miniconda3/envs/snapatac2_env/lib/python3.12/site-packages/muon/_atac/tools.py:118: FutureWarning: Setting an item of incompatible dtype is deprecated and will raise in a future error of pandas. Value '' has dtype incompatible with float64, please explicitly cast to a compatible dtype first.\n",
      "  pa.loc[pa.distance.isnull(), \"distance\"] = \"\"\n"
     ]
    },
    {
     "name": "stdout",
     "output_type": "stream",
     "text": [
      "Added peak annotation from /home/brandon/data/pingyin/snmultiome/input/1619LM/outs/atac_peak_annotation.tsv to .uns['atac']['peak_annotation']\n",
      "Added gene names to peak annotation in .uns['atac']['peak_annotation']\n",
      "Located fragments file: /home/brandon/data/pingyin/snmultiome/input/1619LM/outs/atac_fragments.tsv.gz\n"
     ]
    },
    {
     "data": {
      "text/html": [
       "<pre>MuData object with n_obs × n_vars = 8611 × 99567\n",
       "  var:\t&#x27;gene_ids&#x27;, &#x27;feature_types&#x27;, &#x27;genome&#x27;, &#x27;interval&#x27;\n",
       "  2 modalities\n",
       "    rna:\t8611 x 36601\n",
       "      var:\t&#x27;gene_ids&#x27;, &#x27;feature_types&#x27;, &#x27;genome&#x27;, &#x27;interval&#x27;\n",
       "    atac:\t8611 x 62966\n",
       "      var:\t&#x27;gene_ids&#x27;, &#x27;feature_types&#x27;, &#x27;genome&#x27;, &#x27;interval&#x27;\n",
       "      uns:\t&#x27;atac&#x27;, &#x27;files&#x27;</pre>"
      ],
      "text/plain": [
       "MuData object with n_obs × n_vars = 8611 × 99567\n",
       "  var:\t'gene_ids', 'feature_types', 'genome', 'interval'\n",
       "  2 modalities\n",
       "    rna:\t8611 x 36601\n",
       "      var:\t'gene_ids', 'feature_types', 'genome', 'interval'\n",
       "    atac:\t8611 x 62966\n",
       "      var:\t'gene_ids', 'feature_types', 'genome', 'interval'\n",
       "      uns:\t'atac', 'files'"
      ]
     },
     "execution_count": 4,
     "metadata": {},
     "output_type": "execute_result"
    }
   ],
   "source": [
    "## Import filtered feature matrix\n",
    "mdata = mu.read_10x_h5(input_h5)\n",
    "mdata"
   ]
  },
  {
   "cell_type": "code",
   "execution_count": 5,
   "metadata": {
    "execution": {
     "iopub.execute_input": "2025-03-30T19:34:52.754171Z",
     "iopub.status.busy": "2025-03-30T19:34:52.753854Z",
     "iopub.status.idle": "2025-03-30T19:34:53.402045Z",
     "shell.execute_reply": "2025-03-30T19:34:53.401573Z"
    }
   },
   "outputs": [
    {
     "data": {
      "text/html": [
       "<pre>MuData object with n_obs × n_vars = 8611 × 99567\n",
       "  var:\t&#x27;gene_ids&#x27;, &#x27;feature_types&#x27;, &#x27;genome&#x27;, &#x27;interval&#x27;\n",
       "  2 modalities\n",
       "    rna:\t8611 x 36601\n",
       "      var:\t&#x27;gene_ids&#x27;\n",
       "    atac:\t8611 x 62966\n",
       "      var:\t&#x27;gene_ids&#x27;, &#x27;feature_types&#x27;, &#x27;genome&#x27;, &#x27;interval&#x27;\n",
       "      uns:\t&#x27;atac&#x27;, &#x27;files&#x27;</pre>"
      ],
      "text/plain": [
       "MuData object with n_obs × n_vars = 8611 × 99567\n",
       "  var:\t'gene_ids', 'feature_types', 'genome', 'interval'\n",
       "  2 modalities\n",
       "    rna:\t8611 x 36601\n",
       "      var:\t'gene_ids'\n",
       "    atac:\t8611 x 62966\n",
       "      var:\t'gene_ids', 'feature_types', 'genome', 'interval'\n",
       "      uns:\t'atac', 'files'"
      ]
     },
     "execution_count": 5,
     "metadata": {},
     "output_type": "execute_result"
    }
   ],
   "source": [
    "## Replace the RNA data with SoupX output\n",
    "mdata.mod[\"rna\"] = sc.read_10x_mtx(input_soupx)\n",
    "mdata"
   ]
  },
  {
   "cell_type": "code",
   "execution_count": 6,
   "metadata": {
    "execution": {
     "iopub.execute_input": "2025-03-30T19:34:53.403333Z",
     "iopub.status.busy": "2025-03-30T19:34:53.403098Z",
     "iopub.status.idle": "2025-03-30T19:34:54.535148Z",
     "shell.execute_reply": "2025-03-30T19:34:54.534575Z"
    }
   },
   "outputs": [
    {
     "name": "stderr",
     "output_type": "stream",
     "text": [
      "/home/brandon/miniconda3/envs/snapatac2_env/lib/python3.12/site-packages/mudata/_core/mudata.py:1531: FutureWarning: From 0.4 .update() will not pull obs/var columns from individual modalities by default anymore. Set mudata.set_options(pull_on_update=False) to adopt the new behaviour, which will become the default. Use new pull_obs/pull_var and push_obs/push_var methods for more flexibility.\n",
      "  self._update_attr(\"var\", axis=0, join_common=join_common)\n"
     ]
    },
    {
     "name": "stderr",
     "output_type": "stream",
     "text": [
      "/home/brandon/miniconda3/envs/snapatac2_env/lib/python3.12/site-packages/mudata/_core/mudata.py:1429: FutureWarning: From 0.4 .update() will not pull obs/var columns from individual modalities by default anymore. Set mudata.set_options(pull_on_update=False) to adopt the new behaviour, which will become the default. Use new pull_obs/pull_var and push_obs/push_var methods for more flexibility.\n",
      "  self._update_attr(\"obs\", axis=1, join_common=join_common)\n"
     ]
    }
   ],
   "source": [
    "## Save multimodal data on disk\n",
    "mdata.write(output_file)"
   ]
  }
 ],
 "metadata": {
  "kernelspec": {
   "display_name": "snapatac2_env",
   "language": "python",
   "name": "python3"
  },
  "language_info": {
   "codemirror_mode": {
    "name": "ipython",
    "version": 3
   },
   "file_extension": ".py",
   "mimetype": "text/x-python",
   "name": "python",
   "nbconvert_exporter": "python",
   "pygments_lexer": "ipython3",
   "version": "3.12.9"
  }
 },
 "nbformat": 4,
 "nbformat_minor": 2
}
